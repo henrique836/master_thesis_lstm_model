{
  "nbformat": 4,
  "nbformat_minor": 0,
  "metadata": {
    "colab": {
      "provenance": []
    },
    "kernelspec": {
      "name": "python3",
      "display_name": "Python 3"
    },
    "language_info": {
      "name": "python"
    }
  },
  "cells": [
    {
      "cell_type": "code",
      "execution_count": 1,
      "metadata": {
        "id": "4Sv-dlzem2gr"
      },
      "outputs": [],
      "source": [
        "import tensorflow as tf\n",
        "import os\n",
        "import pandas as pd\n",
        "import numpy as np\n",
        "import math\n",
        "from sklearn.preprocessing import MinMaxScaler\n",
        "from sklearn.metrics import mean_squared_error as mse\n",
        "import matplotlib.pyplot as plt\n",
        "from tensorflow.keras.models import Sequential\n",
        "from tensorflow.keras.layers import *\n",
        "from tensorflow.keras.callbacks import ModelCheckpoint\n",
        "from tensorflow.keras.losses import MeanSquaredError\n",
        "from tensorflow.keras.metrics import RootMeanSquaredError\n",
        "from tensorflow.keras.optimizers import Adam\n",
        "from math import sqrt\n",
        "from google.colab import files"
      ]
    },
    {
      "cell_type": "code",
      "source": [
        "def get_dataset(csv_path, sheet_name, list_inputs, date_index_column_name):\n",
        "  df = pd.read_excel(csv_path, sheet_name=sheet_name)\n",
        "  df_input = df.set_index(date_index_column_name)[list_inputs]\n",
        "  dataset = df_input.to_numpy()\n",
        "  return dataset\n",
        "\n",
        "def normalize_dataset(dataset, min=0, max=1):\n",
        "  scaler = MinMaxScaler(feature_range=(min, max))\n",
        "  normalized_dataset = scaler.fit_transform(dataset)\n",
        "  return scaler, normalized_dataset\n",
        "\n",
        "def series_to_supervised(data, n_in=1, n_out=1, dropnan=True):\n",
        " n_vars = 1 if type(data) is list else data.shape[1]\n",
        " df = pd.DataFrame(data)\n",
        " cols, names = list(), list()\n",
        " # input sequence (t-n, ... t-1)\n",
        " for i in range(n_in, 0, -1):\n",
        "  cols.append(df.shift(i))\n",
        "  names += [('var%d(t-%d)' % (j+1, i)) for j in range(n_vars)]\n",
        " # forecast sequence (t, t+1, ... t+n)\n",
        " for i in range(0, n_out):\n",
        "  cols.append(df.shift(-i))\n",
        "  if i == 0:\n",
        "    names += [('var%d(t)' % (j+1)) for j in range(n_vars)]\n",
        "  else:\n",
        "    names += [('var%d(t+%d)' % (j+1, i)) for j in range(n_vars)]\n",
        " # put it all together\n",
        " agg = pd.concat(cols, axis=1)\n",
        " agg.columns = names\n",
        " # drop rows with NaN values\n",
        " if dropnan:\n",
        "  agg.dropna(inplace=True)\n",
        " return agg.values\n",
        "\n",
        "def drop_output_extra_columns(supervised_df, n_features):\n",
        "  drop_columns_index = n_features-1\n",
        "  supervised_df.drop(supervised_df.columns[-drop_columns_index:], axis=1, inplace=True)\n",
        "  return supervised_df\n",
        "\n",
        "def cut_training_test(values, training_percentage, n_features, lookback_window):\n",
        "  training_data_len = math.ceil(len(values) * training_percentage)\n",
        "  train = values[:training_data_len, :]\n",
        "  test = values[training_data_len:, :]\n",
        "  n_obs = lookback_window * n_features\n",
        "  train_X, train_y = train[:, :n_obs], train[:, -n_features]\n",
        "  test_X, test_y = test[:, :n_obs], test[:, -n_features]\n",
        "  train_X = train_X.reshape((train_X.shape[0], lookback_window, n_features))\n",
        "  test_X = test_X.reshape((test_X.shape[0], lookback_window, n_features))\n",
        "  return train_X, train_y, test_X, test_y, training_data_len\n",
        "\n",
        "def config_model(neurons, train_X):\n",
        "  # design network\n",
        "  model = Sequential()\n",
        "  model.add(LSTM(neurons, input_shape=(train_X.shape[1], train_X.shape[2]), return_sequences=False))\n",
        "  model.add(Dense(25))\n",
        "  model.add(Dense(1))\n",
        "  print(model.summary())\n",
        "  return model\n",
        "\n",
        "def inverse_norm(to_inverse, norm_initial_dataset, training_data_len, lookback_window, lookforward_window, scaler, type):\n",
        "  if type == 'predictions':\n",
        "    inversable_predictions = np.concatenate((to_inverse, norm_initial_dataset[training_data_len+lookback_window+lookforward_window-1:,1:]), axis=1)\n",
        "    inverted = scaler.inverse_transform(inversable_predictions)\n",
        "    inverted = inverted[:,0]\n",
        "  else:\n",
        "    inversable_y_test1 = norm_initial_dataset[training_data_len+lookback_window+lookforward_window-1:,:]\n",
        "    inverted = scaler.inverse_transform(inversable_y_test1)\n",
        "    inverted = inverted[:,0]\n",
        "  return inverted\n",
        "\n",
        "def get_plot(df, title):\n",
        "  df_indexed = df.set_index('week')\n",
        "  # to set the plot size\n",
        "  plt.figure(figsize=(16, 8), dpi=150)\n",
        "\n",
        "  # using plot method to plot open prices.\n",
        "  # in plot method we set the label and color of the curve.\n",
        "  df_indexed['actuals'].plot(label='actuals', color='orange')\n",
        "  df_indexed['predictions'].plot(label='predictions', color='blue')\n",
        "\n",
        "  # adding title to the plot\n",
        "  plt.title(f'{title}')\n",
        "\n",
        "  # adding Label to the x-axis\n",
        "  plt.xlabel('Weeks')\n",
        "\n",
        "  # adding legend to the curve\n",
        "  plt.legend()\n",
        "\n",
        "def get_comp_df_to_plot(csv_path, sheet_name, predictions):\n",
        "  df_inicial = pd.read_excel(csv_path, sheet_name=sheet_name)\n",
        "  df_inicial = df_inicial[['week','pld']]\n",
        "  df_inicial = df_inicial.rename(columns={'pld':'actuals'})\n",
        "  new_index = df_inicial.index.to_list()\n",
        "  df_test_predictions = pd.DataFrame(data={'predictions':predictions})\n",
        "  df_test_predictions.index = new_index[-len(df_test_predictions):]\n",
        "  comp_df_to_plot = pd.concat([df_inicial, df_test_predictions], axis=1)\n",
        "  return comp_df_to_plot"
      ],
      "metadata": {
        "id": "2ZAvDVMmm4L3"
      },
      "execution_count": 2,
      "outputs": []
    },
    {
      "cell_type": "code",
      "source": [
        "csv_path = 'FINAL_INPUTS_v2.xls'\n",
        "sheet_name = 'southeast'\n",
        "list_inputs = ['pld','load_energy','max_demand','ena','hidro_gen','thermo_gen','stored_energy','exports','imports']\n",
        "date_index_column_name = 'ini_date'\n",
        "n_features = len(list_inputs)\n",
        "lookback_window = 1\n",
        "lookforward_window = 1\n",
        "training_percentage = 0.7\n",
        "neurons = 100\n",
        "epochs = 100\n",
        "\n",
        "dataset = get_dataset(csv_path=csv_path,\n",
        "                      sheet_name=sheet_name,\n",
        "                      list_inputs=list_inputs,\n",
        "                      date_index_column_name=date_index_column_name)\n",
        "\n",
        "scaler, norm_dataset = normalize_dataset(dataset)\n",
        "\n",
        "values = series_to_supervised(norm_dataset,n_in=lookback_window, n_out=lookforward_window)\n",
        "\n",
        "train_X, train_y, test_X, test_y, training_data_len = cut_training_test(values, training_percentage, n_features, lookback_window)\n",
        "\n",
        "train_X.shape, train_y.shape, test_X.shape, test_y.shape"
      ],
      "metadata": {
        "colab": {
          "base_uri": "https://localhost:8080/"
        },
        "id": "gzYYWfSqnl1j",
        "outputId": "9b6a3b19-c9b2-41fd-a796-8d235179794b"
      },
      "execution_count": 10,
      "outputs": [
        {
          "output_type": "execute_result",
          "data": {
            "text/plain": [
              "((797, 1, 9), (797,), (341, 1, 9), (341,))"
            ]
          },
          "metadata": {},
          "execution_count": 10
        }
      ]
    },
    {
      "cell_type": "code",
      "source": [
        "model = config_model(neurons, train_X)\n",
        "cp = ModelCheckpoint('model/', save_best_only=True)\n",
        "model.compile(loss=MeanSquaredError(), optimizer=Adam(learning_rate=0.0001), metrics=[RootMeanSquaredError()])\n",
        "history = model.fit(train_X, train_y, validation_data=(test_X, test_y), epochs=epochs, callbacks=[cp])"
      ],
      "metadata": {
        "colab": {
          "base_uri": "https://localhost:8080/"
        },
        "id": "Vn5ytON2n7Yy",
        "outputId": "332c8126-74f6-4415-e286-13cb20b473c1"
      },
      "execution_count": 192,
      "outputs": [
        {
          "output_type": "stream",
          "name": "stdout",
          "text": [
            "Model: \"sequential_22\"\n",
            "_________________________________________________________________\n",
            " Layer (type)                Output Shape              Param #   \n",
            "=================================================================\n",
            " lstm_22 (LSTM)              (None, 100)               44000     \n",
            "                                                                 \n",
            " dense_44 (Dense)            (None, 25)                2525      \n",
            "                                                                 \n",
            " dense_45 (Dense)            (None, 1)                 26        \n",
            "                                                                 \n",
            "=================================================================\n",
            "Total params: 46,551\n",
            "Trainable params: 46,551\n",
            "Non-trainable params: 0\n",
            "_________________________________________________________________\n",
            "None\n",
            "Epoch 1/100\n",
            "23/25 [==========================>...] - ETA: 0s - loss: 0.0707 - root_mean_squared_error: 0.2659"
          ]
        },
        {
          "output_type": "stream",
          "name": "stderr",
          "text": [
            "WARNING:absl:Found untraced functions such as _update_step_xla, lstm_cell_22_layer_call_fn, lstm_cell_22_layer_call_and_return_conditional_losses while saving (showing 3 of 3). These functions will not be directly callable after loading.\n"
          ]
        },
        {
          "output_type": "stream",
          "name": "stdout",
          "text": [
            "\b\b\b\b\b\b\b\b\b\b\b\b\b\b\b\b\b\b\b\b\b\b\b\b\b\b\b\b\b\b\b\b\b\b\b\b\b\b\b\b\b\b\b\b\b\b\b\b\b\b\b\b\b\b\b\b\b\b\b\b\b\b\b\b\b\b\b\b\b\b\b\b\b\b\b\b\b\b\b\b\b\b\b\b\b\b\b\b\b\b\b\b\b\b\b\b\b\r25/25 [==============================] - 9s 228ms/step - loss: 0.0699 - root_mean_squared_error: 0.2645 - val_loss: 0.0483 - val_root_mean_squared_error: 0.2198\n",
            "Epoch 2/100\n",
            "23/25 [==========================>...] - ETA: 0s - loss: 0.0475 - root_mean_squared_error: 0.2180"
          ]
        },
        {
          "output_type": "stream",
          "name": "stderr",
          "text": [
            "WARNING:absl:Found untraced functions such as _update_step_xla, lstm_cell_22_layer_call_fn, lstm_cell_22_layer_call_and_return_conditional_losses while saving (showing 3 of 3). These functions will not be directly callable after loading.\n"
          ]
        },
        {
          "output_type": "stream",
          "name": "stdout",
          "text": [
            "\b\b\b\b\b\b\b\b\b\b\b\b\b\b\b\b\b\b\b\b\b\b\b\b\b\b\b\b\b\b\b\b\b\b\b\b\b\b\b\b\b\b\b\b\b\b\b\b\b\b\b\b\b\b\b\b\b\b\b\b\b\b\b\b\b\b\b\b\b\b\b\b\b\b\b\b\b\b\b\b\b\b\b\b\b\b\b\b\b\b\b\b\b\b\b\b\b\r25/25 [==============================] - 6s 268ms/step - loss: 0.0493 - root_mean_squared_error: 0.2220 - val_loss: 0.0390 - val_root_mean_squared_error: 0.1975\n",
            "Epoch 3/100\n",
            "21/25 [========================>.....] - ETA: 0s - loss: 0.0345 - root_mean_squared_error: 0.1858"
          ]
        },
        {
          "output_type": "stream",
          "name": "stderr",
          "text": [
            "WARNING:absl:Found untraced functions such as _update_step_xla, lstm_cell_22_layer_call_fn, lstm_cell_22_layer_call_and_return_conditional_losses while saving (showing 3 of 3). These functions will not be directly callable after loading.\n"
          ]
        },
        {
          "output_type": "stream",
          "name": "stdout",
          "text": [
            "\b\b\b\b\b\b\b\b\b\b\b\b\b\b\b\b\b\b\b\b\b\b\b\b\b\b\b\b\b\b\b\b\b\b\b\b\b\b\b\b\b\b\b\b\b\b\b\b\b\b\b\b\b\b\b\b\b\b\b\b\b\b\b\b\b\b\b\b\b\b\b\b\b\b\b\b\b\b\b\b\b\b\b\b\b\b\b\b\b\b\b\b\b\b\b\b\b\r25/25 [==============================] - 5s 203ms/step - loss: 0.0341 - root_mean_squared_error: 0.1847 - val_loss: 0.0385 - val_root_mean_squared_error: 0.1961\n",
            "Epoch 4/100\n",
            "25/25 [==============================] - 0s 10ms/step - loss: 0.0237 - root_mean_squared_error: 0.1539 - val_loss: 0.0401 - val_root_mean_squared_error: 0.2003\n",
            "Epoch 5/100\n",
            "25/25 [==============================] - 0s 10ms/step - loss: 0.0175 - root_mean_squared_error: 0.1323 - val_loss: 0.0421 - val_root_mean_squared_error: 0.2051\n",
            "Epoch 6/100\n",
            "25/25 [==============================] - 0s 11ms/step - loss: 0.0141 - root_mean_squared_error: 0.1189 - val_loss: 0.0426 - val_root_mean_squared_error: 0.2063\n",
            "Epoch 7/100\n",
            "25/25 [==============================] - 0s 11ms/step - loss: 0.0120 - root_mean_squared_error: 0.1098 - val_loss: 0.0398 - val_root_mean_squared_error: 0.1995\n",
            "Epoch 8/100\n",
            "23/25 [==========================>...] - ETA: 0s - loss: 0.0105 - root_mean_squared_error: 0.1024"
          ]
        },
        {
          "output_type": "stream",
          "name": "stderr",
          "text": [
            "WARNING:absl:Found untraced functions such as _update_step_xla, lstm_cell_22_layer_call_fn, lstm_cell_22_layer_call_and_return_conditional_losses while saving (showing 3 of 3). These functions will not be directly callable after loading.\n"
          ]
        },
        {
          "output_type": "stream",
          "name": "stdout",
          "text": [
            "\b\b\b\b\b\b\b\b\b\b\b\b\b\b\b\b\b\b\b\b\b\b\b\b\b\b\b\b\b\b\b\b\b\b\b\b\b\b\b\b\b\b\b\b\b\b\b\b\b\b\b\b\b\b\b\b\b\b\b\b\b\b\b\b\b\b\b\b\b\b\b\b\b\b\b\b\b\b\b\b\b\b\b\b\b\b\b\b\b\b\b\b\b\b\b\b\b\r25/25 [==============================] - 6s 267ms/step - loss: 0.0105 - root_mean_squared_error: 0.1026 - val_loss: 0.0324 - val_root_mean_squared_error: 0.1799\n",
            "Epoch 9/100\n",
            "22/25 [=========================>....] - ETA: 0s - loss: 0.0097 - root_mean_squared_error: 0.0983"
          ]
        },
        {
          "output_type": "stream",
          "name": "stderr",
          "text": [
            "WARNING:absl:Found untraced functions such as _update_step_xla, lstm_cell_22_layer_call_fn, lstm_cell_22_layer_call_and_return_conditional_losses while saving (showing 3 of 3). These functions will not be directly callable after loading.\n"
          ]
        },
        {
          "output_type": "stream",
          "name": "stdout",
          "text": [
            "\b\b\b\b\b\b\b\b\b\b\b\b\b\b\b\b\b\b\b\b\b\b\b\b\b\b\b\b\b\b\b\b\b\b\b\b\b\b\b\b\b\b\b\b\b\b\b\b\b\b\b\b\b\b\b\b\b\b\b\b\b\b\b\b\b\b\b\b\b\b\b\b\b\b\b\b\b\b\b\b\b\b\b\b\b\b\b\b\b\b\b\b\b\b\b\b\b\r25/25 [==============================] - 5s 209ms/step - loss: 0.0095 - root_mean_squared_error: 0.0973 - val_loss: 0.0285 - val_root_mean_squared_error: 0.1688\n",
            "Epoch 10/100\n",
            "21/25 [========================>.....] - ETA: 0s - loss: 0.0088 - root_mean_squared_error: 0.0938"
          ]
        },
        {
          "output_type": "stream",
          "name": "stderr",
          "text": [
            "WARNING:absl:Found untraced functions such as _update_step_xla, lstm_cell_22_layer_call_fn, lstm_cell_22_layer_call_and_return_conditional_losses while saving (showing 3 of 3). These functions will not be directly callable after loading.\n"
          ]
        },
        {
          "output_type": "stream",
          "name": "stdout",
          "text": [
            "\b\b\b\b\b\b\b\b\b\b\b\b\b\b\b\b\b\b\b\b\b\b\b\b\b\b\b\b\b\b\b\b\b\b\b\b\b\b\b\b\b\b\b\b\b\b\b\b\b\b\b\b\b\b\b\b\b\b\b\b\b\b\b\b\b\b\b\b\b\b\b\b\b\b\b\b\b\b\b\b\b\b\b\b\b\b\b\b\b\b\b\b\b\b\b\b\b\r25/25 [==============================] - 5s 201ms/step - loss: 0.0085 - root_mean_squared_error: 0.0924 - val_loss: 0.0249 - val_root_mean_squared_error: 0.1579\n",
            "Epoch 11/100\n",
            "23/25 [==========================>...] - ETA: 0s - loss: 0.0081 - root_mean_squared_error: 0.0901"
          ]
        },
        {
          "output_type": "stream",
          "name": "stderr",
          "text": [
            "WARNING:absl:Found untraced functions such as _update_step_xla, lstm_cell_22_layer_call_fn, lstm_cell_22_layer_call_and_return_conditional_losses while saving (showing 3 of 3). These functions will not be directly callable after loading.\n"
          ]
        },
        {
          "output_type": "stream",
          "name": "stdout",
          "text": [
            "\b\b\b\b\b\b\b\b\b\b\b\b\b\b\b\b\b\b\b\b\b\b\b\b\b\b\b\b\b\b\b\b\b\b\b\b\b\b\b\b\b\b\b\b\b\b\b\b\b\b\b\b\b\b\b\b\b\b\b\b\b\b\b\b\b\b\b\b\b\b\b\b\b\b\b\b\b\b\b\b\b\b\b\b\b\b\b\b\b\b\b\b\b\b\b\b\b\r25/25 [==============================] - 7s 278ms/step - loss: 0.0078 - root_mean_squared_error: 0.0885 - val_loss: 0.0234 - val_root_mean_squared_error: 0.1531\n",
            "Epoch 12/100\n",
            "21/25 [========================>.....] - ETA: 0s - loss: 0.0071 - root_mean_squared_error: 0.0845"
          ]
        },
        {
          "output_type": "stream",
          "name": "stderr",
          "text": [
            "WARNING:absl:Found untraced functions such as _update_step_xla, lstm_cell_22_layer_call_fn, lstm_cell_22_layer_call_and_return_conditional_losses while saving (showing 3 of 3). These functions will not be directly callable after loading.\n"
          ]
        },
        {
          "output_type": "stream",
          "name": "stdout",
          "text": [
            "\b\b\b\b\b\b\b\b\b\b\b\b\b\b\b\b\b\b\b\b\b\b\b\b\b\b\b\b\b\b\b\b\b\b\b\b\b\b\b\b\b\b\b\b\b\b\b\b\b\b\b\b\b\b\b\b\b\b\b\b\b\b\b\b\b\b\b\b\b\b\b\b\b\b\b\b\b\b\b\b\b\b\b\b\b\b\b\b\b\b\b\b\b\b\b\b\b\r25/25 [==============================] - 5s 211ms/step - loss: 0.0074 - root_mean_squared_error: 0.0859 - val_loss: 0.0211 - val_root_mean_squared_error: 0.1452\n",
            "Epoch 13/100\n",
            "21/25 [========================>.....] - ETA: 0s - loss: 0.0072 - root_mean_squared_error: 0.0849"
          ]
        },
        {
          "output_type": "stream",
          "name": "stderr",
          "text": [
            "WARNING:absl:Found untraced functions such as _update_step_xla, lstm_cell_22_layer_call_fn, lstm_cell_22_layer_call_and_return_conditional_losses while saving (showing 3 of 3). These functions will not be directly callable after loading.\n"
          ]
        },
        {
          "output_type": "stream",
          "name": "stdout",
          "text": [
            "\b\b\b\b\b\b\b\b\b\b\b\b\b\b\b\b\b\b\b\b\b\b\b\b\b\b\b\b\b\b\b\b\b\b\b\b\b\b\b\b\b\b\b\b\b\b\b\b\b\b\b\b\b\b\b\b\b\b\b\b\b\b\b\b\b\b\b\b\b\b\b\b\b\b\b\b\b\b\b\b\b\b\b\b\b\b\b\b\b\b\b\b\b\b\b\b\b\r25/25 [==============================] - 7s 306ms/step - loss: 0.0070 - root_mean_squared_error: 0.0836 - val_loss: 0.0186 - val_root_mean_squared_error: 0.1362\n",
            "Epoch 14/100\n",
            "22/25 [=========================>....] - ETA: 0s - loss: 0.0070 - root_mean_squared_error: 0.0837"
          ]
        },
        {
          "output_type": "stream",
          "name": "stderr",
          "text": [
            "WARNING:absl:Found untraced functions such as _update_step_xla, lstm_cell_22_layer_call_fn, lstm_cell_22_layer_call_and_return_conditional_losses while saving (showing 3 of 3). These functions will not be directly callable after loading.\n"
          ]
        },
        {
          "output_type": "stream",
          "name": "stdout",
          "text": [
            "\b\b\b\b\b\b\b\b\b\b\b\b\b\b\b\b\b\b\b\b\b\b\b\b\b\b\b\b\b\b\b\b\b\b\b\b\b\b\b\b\b\b\b\b\b\b\b\b\b\b\b\b\b\b\b\b\b\b\b\b\b\b\b\b\b\b\b\b\b\b\b\b\b\b\b\b\b\b\b\b\b\b\b\b\b\b\b\b\b\b\b\b\b\b\b\b\b\r25/25 [==============================] - 5s 204ms/step - loss: 0.0067 - root_mean_squared_error: 0.0819 - val_loss: 0.0168 - val_root_mean_squared_error: 0.1297\n",
            "Epoch 15/100\n",
            "24/25 [===========================>..] - ETA: 0s - loss: 0.0066 - root_mean_squared_error: 0.0809"
          ]
        },
        {
          "output_type": "stream",
          "name": "stderr",
          "text": [
            "WARNING:absl:Found untraced functions such as _update_step_xla, lstm_cell_22_layer_call_fn, lstm_cell_22_layer_call_and_return_conditional_losses while saving (showing 3 of 3). These functions will not be directly callable after loading.\n"
          ]
        },
        {
          "output_type": "stream",
          "name": "stdout",
          "text": [
            "\b\b\b\b\b\b\b\b\b\b\b\b\b\b\b\b\b\b\b\b\b\b\b\b\b\b\b\b\b\b\b\b\b\b\b\b\b\b\b\b\b\b\b\b\b\b\b\b\b\b\b\b\b\b\b\b\b\b\b\b\b\b\b\b\b\b\b\b\b\b\b\b\b\b\b\b\b\b\b\b\b\b\b\b\b\b\b\b\b\b\b\b\b\b\b\b\b\r25/25 [==============================] - 6s 263ms/step - loss: 0.0064 - root_mean_squared_error: 0.0802 - val_loss: 0.0153 - val_root_mean_squared_error: 0.1236\n",
            "Epoch 16/100\n",
            "24/25 [===========================>..] - ETA: 0s - loss: 0.0063 - root_mean_squared_error: 0.0793"
          ]
        },
        {
          "output_type": "stream",
          "name": "stderr",
          "text": [
            "WARNING:absl:Found untraced functions such as _update_step_xla, lstm_cell_22_layer_call_fn, lstm_cell_22_layer_call_and_return_conditional_losses while saving (showing 3 of 3). These functions will not be directly callable after loading.\n"
          ]
        },
        {
          "output_type": "stream",
          "name": "stdout",
          "text": [
            "\b\b\b\b\b\b\b\b\b\b\b\b\b\b\b\b\b\b\b\b\b\b\b\b\b\b\b\b\b\b\b\b\b\b\b\b\b\b\b\b\b\b\b\b\b\b\b\b\b\b\b\b\b\b\b\b\b\b\b\b\b\b\b\b\b\b\b\b\b\b\b\b\b\b\b\b\b\b\b\b\b\b\b\b\b\b\b\b\b\b\b\b\b\b\b\b\b\r25/25 [==============================] - 5s 205ms/step - loss: 0.0063 - root_mean_squared_error: 0.0792 - val_loss: 0.0147 - val_root_mean_squared_error: 0.1214\n",
            "Epoch 17/100\n",
            "18/25 [====================>.........] - ETA: 0s - loss: 0.0054 - root_mean_squared_error: 0.0736"
          ]
        },
        {
          "output_type": "stream",
          "name": "stderr",
          "text": [
            "WARNING:absl:Found untraced functions such as _update_step_xla, lstm_cell_22_layer_call_fn, lstm_cell_22_layer_call_and_return_conditional_losses while saving (showing 3 of 3). These functions will not be directly callable after loading.\n"
          ]
        },
        {
          "output_type": "stream",
          "name": "stdout",
          "text": [
            "\b\b\b\b\b\b\b\b\b\b\b\b\b\b\b\b\b\b\b\b\b\b\b\b\b\b\b\b\b\b\b\b\b\b\b\b\b\b\b\b\b\b\b\b\b\b\b\b\b\b\b\b\b\b\b\b\b\b\b\b\b\b\b\b\b\b\b\b\b\b\b\b\b\b\b\b\b\b\b\b\b\b\b\b\b\b\b\b\b\b\b\b\b\b\b\b\b\r25/25 [==============================] - 6s 237ms/step - loss: 0.0061 - root_mean_squared_error: 0.0782 - val_loss: 0.0144 - val_root_mean_squared_error: 0.1200\n",
            "Epoch 18/100\n",
            "25/25 [==============================] - 0s 14ms/step - loss: 0.0061 - root_mean_squared_error: 0.0782 - val_loss: 0.0147 - val_root_mean_squared_error: 0.1214\n",
            "Epoch 19/100\n",
            "25/25 [==============================] - ETA: 0s - loss: 0.0059 - root_mean_squared_error: 0.0769"
          ]
        },
        {
          "output_type": "stream",
          "name": "stderr",
          "text": [
            "WARNING:absl:Found untraced functions such as _update_step_xla, lstm_cell_22_layer_call_fn, lstm_cell_22_layer_call_and_return_conditional_losses while saving (showing 3 of 3). These functions will not be directly callable after loading.\n"
          ]
        },
        {
          "output_type": "stream",
          "name": "stdout",
          "text": [
            "\b\b\b\b\b\b\b\b\b\b\b\b\b\b\b\b\b\b\b\b\b\b\b\b\b\b\b\b\b\b\b\b\b\b\b\b\b\b\b\b\b\b\b\b\b\b\b\b\b\b\b\b\b\b\b\b\b\b\b\b\b\b\b\b\b\b\b\b\b\b\b\b\b\b\b\b\b\b\b\b\b\b\b\b\b\b\b\b\b\b\b\b\b\b\b\b\b\r25/25 [==============================] - 6s 254ms/step - loss: 0.0059 - root_mean_squared_error: 0.0769 - val_loss: 0.0138 - val_root_mean_squared_error: 0.1173\n",
            "Epoch 20/100\n",
            "23/25 [==========================>...] - ETA: 0s - loss: 0.0061 - root_mean_squared_error: 0.0780"
          ]
        },
        {
          "output_type": "stream",
          "name": "stderr",
          "text": [
            "WARNING:absl:Found untraced functions such as _update_step_xla, lstm_cell_22_layer_call_fn, lstm_cell_22_layer_call_and_return_conditional_losses while saving (showing 3 of 3). These functions will not be directly callable after loading.\n"
          ]
        },
        {
          "output_type": "stream",
          "name": "stdout",
          "text": [
            "\b\b\b\b\b\b\b\b\b\b\b\b\b\b\b\b\b\b\b\b\b\b\b\b\b\b\b\b\b\b\b\b\b\b\b\b\b\b\b\b\b\b\b\b\b\b\b\b\b\b\b\b\b\b\b\b\b\b\b\b\b\b\b\b\b\b\b\b\b\b\b\b\b\b\b\b\b\b\b\b\b\b\b\b\b\b\b\b\b\b\b\b\b\b\b\b\b\r25/25 [==============================] - 5s 221ms/step - loss: 0.0058 - root_mean_squared_error: 0.0760 - val_loss: 0.0129 - val_root_mean_squared_error: 0.1137\n",
            "Epoch 21/100\n",
            "22/25 [=========================>....] - ETA: 0s - loss: 0.0053 - root_mean_squared_error: 0.0730"
          ]
        },
        {
          "output_type": "stream",
          "name": "stderr",
          "text": [
            "WARNING:absl:Found untraced functions such as _update_step_xla, lstm_cell_22_layer_call_fn, lstm_cell_22_layer_call_and_return_conditional_losses while saving (showing 3 of 3). These functions will not be directly callable after loading.\n"
          ]
        },
        {
          "output_type": "stream",
          "name": "stdout",
          "text": [
            "\b\b\b\b\b\b\b\b\b\b\b\b\b\b\b\b\b\b\b\b\b\b\b\b\b\b\b\b\b\b\b\b\b\b\b\b\b\b\b\b\b\b\b\b\b\b\b\b\b\b\b\b\b\b\b\b\b\b\b\b\b\b\b\b\b\b\b\b\b\b\b\b\b\b\b\b\b\b\b\b\b\b\b\b\b\b\b\b\b\b\b\b\b\b\b\b\b\r25/25 [==============================] - 6s 252ms/step - loss: 0.0057 - root_mean_squared_error: 0.0756 - val_loss: 0.0126 - val_root_mean_squared_error: 0.1124\n",
            "Epoch 22/100\n",
            "25/25 [==============================] - 0s 9ms/step - loss: 0.0056 - root_mean_squared_error: 0.0749 - val_loss: 0.0127 - val_root_mean_squared_error: 0.1129\n",
            "Epoch 23/100\n",
            "24/25 [===========================>..] - ETA: 0s - loss: 0.0058 - root_mean_squared_error: 0.0760"
          ]
        },
        {
          "output_type": "stream",
          "name": "stderr",
          "text": [
            "WARNING:absl:Found untraced functions such as _update_step_xla, lstm_cell_22_layer_call_fn, lstm_cell_22_layer_call_and_return_conditional_losses while saving (showing 3 of 3). These functions will not be directly callable after loading.\n"
          ]
        },
        {
          "output_type": "stream",
          "name": "stdout",
          "text": [
            "\b\b\b\b\b\b\b\b\b\b\b\b\b\b\b\b\b\b\b\b\b\b\b\b\b\b\b\b\b\b\b\b\b\b\b\b\b\b\b\b\b\b\b\b\b\b\b\b\b\b\b\b\b\b\b\b\b\b\b\b\b\b\b\b\b\b\b\b\b\b\b\b\b\b\b\b\b\b\b\b\b\b\b\b\b\b\b\b\b\b\b\b\b\b\b\b\b\r25/25 [==============================] - 5s 203ms/step - loss: 0.0056 - root_mean_squared_error: 0.0751 - val_loss: 0.0123 - val_root_mean_squared_error: 0.1111\n",
            "Epoch 24/100\n",
            "21/25 [========================>.....] - ETA: 0s - loss: 0.0055 - root_mean_squared_error: 0.0743"
          ]
        },
        {
          "output_type": "stream",
          "name": "stderr",
          "text": [
            "WARNING:absl:Found untraced functions such as _update_step_xla, lstm_cell_22_layer_call_fn, lstm_cell_22_layer_call_and_return_conditional_losses while saving (showing 3 of 3). These functions will not be directly callable after loading.\n"
          ]
        },
        {
          "output_type": "stream",
          "name": "stdout",
          "text": [
            "\b\b\b\b\b\b\b\b\b\b\b\b\b\b\b\b\b\b\b\b\b\b\b\b\b\b\b\b\b\b\b\b\b\b\b\b\b\b\b\b\b\b\b\b\b\b\b\b\b\b\b\b\b\b\b\b\b\b\b\b\b\b\b\b\b\b\b\b\b\b\b\b\b\b\b\b\b\b\b\b\b\b\b\b\b\b\b\b\b\b\b\b\b\b\b\b\b\r25/25 [==============================] - 6s 234ms/step - loss: 0.0055 - root_mean_squared_error: 0.0741 - val_loss: 0.0114 - val_root_mean_squared_error: 0.1068\n",
            "Epoch 25/100\n",
            "25/25 [==============================] - 0s 11ms/step - loss: 0.0054 - root_mean_squared_error: 0.0736 - val_loss: 0.0116 - val_root_mean_squared_error: 0.1079\n",
            "Epoch 26/100\n",
            "20/25 [=======================>......] - ETA: 0s - loss: 0.0054 - root_mean_squared_error: 0.0736"
          ]
        },
        {
          "output_type": "stream",
          "name": "stderr",
          "text": [
            "WARNING:absl:Found untraced functions such as _update_step_xla, lstm_cell_22_layer_call_fn, lstm_cell_22_layer_call_and_return_conditional_losses while saving (showing 3 of 3). These functions will not be directly callable after loading.\n"
          ]
        },
        {
          "output_type": "stream",
          "name": "stdout",
          "text": [
            "\b\b\b\b\b\b\b\b\b\b\b\b\b\b\b\b\b\b\b\b\b\b\b\b\b\b\b\b\b\b\b\b\b\b\b\b\b\b\b\b\b\b\b\b\b\b\b\b\b\b\b\b\b\b\b\b\b\b\b\b\b\b\b\b\b\b\b\b\b\b\b\b\b\b\b\b\b\b\b\b\b\b\b\b\b\b\b\b\b\b\b\b\b\b\b\b\b\r25/25 [==============================] - 6s 255ms/step - loss: 0.0054 - root_mean_squared_error: 0.0733 - val_loss: 0.0114 - val_root_mean_squared_error: 0.1065\n",
            "Epoch 27/100\n",
            "25/25 [==============================] - ETA: 0s - loss: 0.0053 - root_mean_squared_error: 0.0726"
          ]
        },
        {
          "output_type": "stream",
          "name": "stderr",
          "text": [
            "WARNING:absl:Found untraced functions such as _update_step_xla, lstm_cell_22_layer_call_fn, lstm_cell_22_layer_call_and_return_conditional_losses while saving (showing 3 of 3). These functions will not be directly callable after loading.\n"
          ]
        },
        {
          "output_type": "stream",
          "name": "stdout",
          "text": [
            "\b\b\b\b\b\b\b\b\b\b\b\b\b\b\b\b\b\b\b\b\b\b\b\b\b\b\b\b\b\b\b\b\b\b\b\b\b\b\b\b\b\b\b\b\b\b\b\b\b\b\b\b\b\b\b\b\b\b\b\b\b\b\b\b\b\b\b\b\b\b\b\b\b\b\b\b\b\b\b\b\b\b\b\b\b\b\b\b\b\b\b\b\b\b\b\b\b\r25/25 [==============================] - 6s 241ms/step - loss: 0.0053 - root_mean_squared_error: 0.0726 - val_loss: 0.0111 - val_root_mean_squared_error: 0.1053\n",
            "Epoch 28/100\n",
            "25/25 [==============================] - 0s 11ms/step - loss: 0.0053 - root_mean_squared_error: 0.0726 - val_loss: 0.0112 - val_root_mean_squared_error: 0.1058\n",
            "Epoch 29/100\n",
            "25/25 [==============================] - 0s 11ms/step - loss: 0.0053 - root_mean_squared_error: 0.0725 - val_loss: 0.0119 - val_root_mean_squared_error: 0.1090\n",
            "Epoch 30/100\n",
            "25/25 [==============================] - 0s 11ms/step - loss: 0.0052 - root_mean_squared_error: 0.0723 - val_loss: 0.0120 - val_root_mean_squared_error: 0.1095\n",
            "Epoch 31/100\n",
            "25/25 [==============================] - ETA: 0s - loss: 0.0052 - root_mean_squared_error: 0.0720"
          ]
        },
        {
          "output_type": "stream",
          "name": "stderr",
          "text": [
            "WARNING:absl:Found untraced functions such as _update_step_xla, lstm_cell_22_layer_call_fn, lstm_cell_22_layer_call_and_return_conditional_losses while saving (showing 3 of 3). These functions will not be directly callable after loading.\n"
          ]
        },
        {
          "output_type": "stream",
          "name": "stdout",
          "text": [
            "\b\b\b\b\b\b\b\b\b\b\b\b\b\b\b\b\b\b\b\b\b\b\b\b\b\b\b\b\b\b\b\b\b\b\b\b\b\b\b\b\b\b\b\b\b\b\b\b\b\b\b\b\b\b\b\b\b\b\b\b\b\b\b\b\b\b\b\b\b\b\b\b\b\b\b\b\b\b\b\b\b\b\b\b\b\b\b\b\b\b\b\b\b\b\b\b\b\r25/25 [==============================] - 6s 246ms/step - loss: 0.0052 - root_mean_squared_error: 0.0720 - val_loss: 0.0107 - val_root_mean_squared_error: 0.1036\n",
            "Epoch 32/100\n",
            "22/25 [=========================>....] - ETA: 0s - loss: 0.0055 - root_mean_squared_error: 0.0740"
          ]
        },
        {
          "output_type": "stream",
          "name": "stderr",
          "text": [
            "WARNING:absl:Found untraced functions such as _update_step_xla, lstm_cell_22_layer_call_fn, lstm_cell_22_layer_call_and_return_conditional_losses while saving (showing 3 of 3). These functions will not be directly callable after loading.\n"
          ]
        },
        {
          "output_type": "stream",
          "name": "stdout",
          "text": [
            "\b\b\b\b\b\b\b\b\b\b\b\b\b\b\b\b\b\b\b\b\b\b\b\b\b\b\b\b\b\b\b\b\b\b\b\b\b\b\b\b\b\b\b\b\b\b\b\b\b\b\b\b\b\b\b\b\b\b\b\b\b\b\b\b\b\b\b\b\b\b\b\b\b\b\b\b\b\b\b\b\b\b\b\b\b\b\b\b\b\b\b\b\b\b\b\b\b\r25/25 [==============================] - 6s 241ms/step - loss: 0.0052 - root_mean_squared_error: 0.0724 - val_loss: 0.0105 - val_root_mean_squared_error: 0.1026\n",
            "Epoch 33/100\n",
            "25/25 [==============================] - 0s 12ms/step - loss: 0.0051 - root_mean_squared_error: 0.0716 - val_loss: 0.0117 - val_root_mean_squared_error: 0.1080\n",
            "Epoch 34/100\n",
            "25/25 [==============================] - 0s 10ms/step - loss: 0.0050 - root_mean_squared_error: 0.0707 - val_loss: 0.0109 - val_root_mean_squared_error: 0.1045\n",
            "Epoch 35/100\n",
            "25/25 [==============================] - 0s 10ms/step - loss: 0.0050 - root_mean_squared_error: 0.0707 - val_loss: 0.0111 - val_root_mean_squared_error: 0.1053\n",
            "Epoch 36/100\n",
            "25/25 [==============================] - 0s 10ms/step - loss: 0.0050 - root_mean_squared_error: 0.0704 - val_loss: 0.0109 - val_root_mean_squared_error: 0.1046\n",
            "Epoch 37/100\n",
            "25/25 [==============================] - ETA: 0s - loss: 0.0049 - root_mean_squared_error: 0.0702"
          ]
        },
        {
          "output_type": "stream",
          "name": "stderr",
          "text": [
            "WARNING:absl:Found untraced functions such as _update_step_xla, lstm_cell_22_layer_call_fn, lstm_cell_22_layer_call_and_return_conditional_losses while saving (showing 3 of 3). These functions will not be directly callable after loading.\n"
          ]
        },
        {
          "output_type": "stream",
          "name": "stdout",
          "text": [
            "\b\b\b\b\b\b\b\b\b\b\b\b\b\b\b\b\b\b\b\b\b\b\b\b\b\b\b\b\b\b\b\b\b\b\b\b\b\b\b\b\b\b\b\b\b\b\b\b\b\b\b\b\b\b\b\b\b\b\b\b\b\b\b\b\b\b\b\b\b\b\b\b\b\b\b\b\b\b\b\b\b\b\b\b\b\b\b\b\b\b\b\b\b\b\b\b\b\r25/25 [==============================] - 6s 245ms/step - loss: 0.0049 - root_mean_squared_error: 0.0702 - val_loss: 0.0102 - val_root_mean_squared_error: 0.1008\n",
            "Epoch 38/100\n",
            "25/25 [==============================] - 0s 12ms/step - loss: 0.0050 - root_mean_squared_error: 0.0705 - val_loss: 0.0108 - val_root_mean_squared_error: 0.1040\n",
            "Epoch 39/100\n",
            "25/25 [==============================] - 0s 14ms/step - loss: 0.0049 - root_mean_squared_error: 0.0697 - val_loss: 0.0103 - val_root_mean_squared_error: 0.1015\n",
            "Epoch 40/100\n",
            "25/25 [==============================] - ETA: 0s - loss: 0.0048 - root_mean_squared_error: 0.0693"
          ]
        },
        {
          "output_type": "stream",
          "name": "stderr",
          "text": [
            "WARNING:absl:Found untraced functions such as _update_step_xla, lstm_cell_22_layer_call_fn, lstm_cell_22_layer_call_and_return_conditional_losses while saving (showing 3 of 3). These functions will not be directly callable after loading.\n"
          ]
        },
        {
          "output_type": "stream",
          "name": "stdout",
          "text": [
            "\b\b\b\b\b\b\b\b\b\b\b\b\b\b\b\b\b\b\b\b\b\b\b\b\b\b\b\b\b\b\b\b\b\b\b\b\b\b\b\b\b\b\b\b\b\b\b\b\b\b\b\b\b\b\b\b\b\b\b\b\b\b\b\b\b\b\b\b\b\b\b\b\b\b\b\b\b\b\b\b\b\b\b\b\b\b\b\b\b\b\b\b\b\b\b\b\b\r25/25 [==============================] - 6s 236ms/step - loss: 0.0048 - root_mean_squared_error: 0.0693 - val_loss: 0.0100 - val_root_mean_squared_error: 0.1002\n",
            "Epoch 41/100\n",
            "25/25 [==============================] - 0s 11ms/step - loss: 0.0048 - root_mean_squared_error: 0.0693 - val_loss: 0.0106 - val_root_mean_squared_error: 0.1029\n",
            "Epoch 42/100\n",
            "25/25 [==============================] - 0s 11ms/step - loss: 0.0048 - root_mean_squared_error: 0.0694 - val_loss: 0.0110 - val_root_mean_squared_error: 0.1048\n",
            "Epoch 43/100\n",
            "25/25 [==============================] - 0s 10ms/step - loss: 0.0049 - root_mean_squared_error: 0.0698 - val_loss: 0.0103 - val_root_mean_squared_error: 0.1015\n",
            "Epoch 44/100\n",
            "25/25 [==============================] - ETA: 0s - loss: 0.0047 - root_mean_squared_error: 0.0687"
          ]
        },
        {
          "output_type": "stream",
          "name": "stderr",
          "text": [
            "WARNING:absl:Found untraced functions such as _update_step_xla, lstm_cell_22_layer_call_fn, lstm_cell_22_layer_call_and_return_conditional_losses while saving (showing 3 of 3). These functions will not be directly callable after loading.\n"
          ]
        },
        {
          "output_type": "stream",
          "name": "stdout",
          "text": [
            "\b\b\b\b\b\b\b\b\b\b\b\b\b\b\b\b\b\b\b\b\b\b\b\b\b\b\b\b\b\b\b\b\b\b\b\b\b\b\b\b\b\b\b\b\b\b\b\b\b\b\b\b\b\b\b\b\b\b\b\b\b\b\b\b\b\b\b\b\b\b\b\b\b\b\b\b\b\b\b\b\b\b\b\b\b\b\b\b\b\b\b\b\b\b\b\b\b\r25/25 [==============================] - 5s 209ms/step - loss: 0.0047 - root_mean_squared_error: 0.0687 - val_loss: 0.0098 - val_root_mean_squared_error: 0.0991\n",
            "Epoch 45/100\n",
            "25/25 [==============================] - 0s 12ms/step - loss: 0.0047 - root_mean_squared_error: 0.0687 - val_loss: 0.0099 - val_root_mean_squared_error: 0.0996\n",
            "Epoch 46/100\n",
            "25/25 [==============================] - 0s 10ms/step - loss: 0.0047 - root_mean_squared_error: 0.0683 - val_loss: 0.0100 - val_root_mean_squared_error: 0.0999\n",
            "Epoch 47/100\n",
            "25/25 [==============================] - 0s 18ms/step - loss: 0.0046 - root_mean_squared_error: 0.0681 - val_loss: 0.0100 - val_root_mean_squared_error: 0.1001\n",
            "Epoch 48/100\n",
            "25/25 [==============================] - 0s 16ms/step - loss: 0.0046 - root_mean_squared_error: 0.0677 - val_loss: 0.0104 - val_root_mean_squared_error: 0.1021\n",
            "Epoch 49/100\n",
            "25/25 [==============================] - 0s 14ms/step - loss: 0.0046 - root_mean_squared_error: 0.0679 - val_loss: 0.0102 - val_root_mean_squared_error: 0.1008\n",
            "Epoch 50/100\n",
            "22/25 [=========================>....] - ETA: 0s - loss: 0.0047 - root_mean_squared_error: 0.0689"
          ]
        },
        {
          "output_type": "stream",
          "name": "stderr",
          "text": [
            "WARNING:absl:Found untraced functions such as _update_step_xla, lstm_cell_22_layer_call_fn, lstm_cell_22_layer_call_and_return_conditional_losses while saving (showing 3 of 3). These functions will not be directly callable after loading.\n"
          ]
        },
        {
          "output_type": "stream",
          "name": "stdout",
          "text": [
            "\b\b\b\b\b\b\b\b\b\b\b\b\b\b\b\b\b\b\b\b\b\b\b\b\b\b\b\b\b\b\b\b\b\b\b\b\b\b\b\b\b\b\b\b\b\b\b\b\b\b\b\b\b\b\b\b\b\b\b\b\b\b\b\b\b\b\b\b\b\b\b\b\b\b\b\b\b\b\b\b\b\b\b\b\b\b\b\b\b\b\b\b\b\b\b\b\b\r25/25 [==============================] - 6s 269ms/step - loss: 0.0047 - root_mean_squared_error: 0.0685 - val_loss: 0.0095 - val_root_mean_squared_error: 0.0974\n",
            "Epoch 51/100\n",
            "25/25 [==============================] - 0s 11ms/step - loss: 0.0046 - root_mean_squared_error: 0.0678 - val_loss: 0.0096 - val_root_mean_squared_error: 0.0982\n",
            "Epoch 52/100\n",
            "25/25 [==============================] - ETA: 0s - loss: 0.0045 - root_mean_squared_error: 0.0673"
          ]
        },
        {
          "output_type": "stream",
          "name": "stderr",
          "text": [
            "WARNING:absl:Found untraced functions such as _update_step_xla, lstm_cell_22_layer_call_fn, lstm_cell_22_layer_call_and_return_conditional_losses while saving (showing 3 of 3). These functions will not be directly callable after loading.\n"
          ]
        },
        {
          "output_type": "stream",
          "name": "stdout",
          "text": [
            "\b\b\b\b\b\b\b\b\b\b\b\b\b\b\b\b\b\b\b\b\b\b\b\b\b\b\b\b\b\b\b\b\b\b\b\b\b\b\b\b\b\b\b\b\b\b\b\b\b\b\b\b\b\b\b\b\b\b\b\b\b\b\b\b\b\b\b\b\b\b\b\b\b\b\b\b\b\b\b\b\b\b\b\b\b\b\b\b\b\b\b\b\b\b\b\b\b\r25/25 [==============================] - 5s 208ms/step - loss: 0.0045 - root_mean_squared_error: 0.0673 - val_loss: 0.0095 - val_root_mean_squared_error: 0.0973\n",
            "Epoch 53/100\n",
            "25/25 [==============================] - 0s 14ms/step - loss: 0.0045 - root_mean_squared_error: 0.0667 - val_loss: 0.0095 - val_root_mean_squared_error: 0.0975\n",
            "Epoch 54/100\n",
            "25/25 [==============================] - 0s 14ms/step - loss: 0.0045 - root_mean_squared_error: 0.0669 - val_loss: 0.0095 - val_root_mean_squared_error: 0.0977\n",
            "Epoch 55/100\n",
            "25/25 [==============================] - 0s 14ms/step - loss: 0.0045 - root_mean_squared_error: 0.0669 - val_loss: 0.0096 - val_root_mean_squared_error: 0.0977\n",
            "Epoch 56/100\n",
            "21/25 [========================>.....] - ETA: 0s - loss: 0.0046 - root_mean_squared_error: 0.0678"
          ]
        },
        {
          "output_type": "stream",
          "name": "stderr",
          "text": [
            "WARNING:absl:Found untraced functions such as _update_step_xla, lstm_cell_22_layer_call_fn, lstm_cell_22_layer_call_and_return_conditional_losses while saving (showing 3 of 3). These functions will not be directly callable after loading.\n"
          ]
        },
        {
          "output_type": "stream",
          "name": "stdout",
          "text": [
            "\b\b\b\b\b\b\b\b\b\b\b\b\b\b\b\b\b\b\b\b\b\b\b\b\b\b\b\b\b\b\b\b\b\b\b\b\b\b\b\b\b\b\b\b\b\b\b\b\b\b\b\b\b\b\b\b\b\b\b\b\b\b\b\b\b\b\b\b\b\b\b\b\b\b\b\b\b\b\b\b\b\b\b\b\b\b\b\b\b\b\b\b\b\b\b\b\b\r25/25 [==============================] - 6s 253ms/step - loss: 0.0044 - root_mean_squared_error: 0.0662 - val_loss: 0.0095 - val_root_mean_squared_error: 0.0973\n",
            "Epoch 57/100\n",
            "20/25 [=======================>......] - ETA: 0s - loss: 0.0041 - root_mean_squared_error: 0.0640"
          ]
        },
        {
          "output_type": "stream",
          "name": "stderr",
          "text": [
            "WARNING:absl:Found untraced functions such as _update_step_xla, lstm_cell_22_layer_call_fn, lstm_cell_22_layer_call_and_return_conditional_losses while saving (showing 3 of 3). These functions will not be directly callable after loading.\n"
          ]
        },
        {
          "output_type": "stream",
          "name": "stdout",
          "text": [
            "\b\b\b\b\b\b\b\b\b\b\b\b\b\b\b\b\b\b\b\b\b\b\b\b\b\b\b\b\b\b\b\b\b\b\b\b\b\b\b\b\b\b\b\b\b\b\b\b\b\b\b\b\b\b\b\b\b\b\b\b\b\b\b\b\b\b\b\b\b\b\b\b\b\b\b\b\b\b\b\b\b\b\b\b\b\b\b\b\b\b\b\b\b\b\b\b\b\r25/25 [==============================] - 5s 207ms/step - loss: 0.0044 - root_mean_squared_error: 0.0664 - val_loss: 0.0093 - val_root_mean_squared_error: 0.0963\n",
            "Epoch 58/100\n",
            "25/25 [==============================] - 0s 11ms/step - loss: 0.0043 - root_mean_squared_error: 0.0658 - val_loss: 0.0098 - val_root_mean_squared_error: 0.0988\n",
            "Epoch 59/100\n",
            "25/25 [==============================] - 0s 14ms/step - loss: 0.0043 - root_mean_squared_error: 0.0656 - val_loss: 0.0094 - val_root_mean_squared_error: 0.0967\n",
            "Epoch 60/100\n",
            "25/25 [==============================] - 0s 14ms/step - loss: 0.0043 - root_mean_squared_error: 0.0656 - val_loss: 0.0095 - val_root_mean_squared_error: 0.0977\n",
            "Epoch 61/100\n",
            "24/25 [===========================>..] - ETA: 0s - loss: 0.0044 - root_mean_squared_error: 0.0663"
          ]
        },
        {
          "output_type": "stream",
          "name": "stderr",
          "text": [
            "WARNING:absl:Found untraced functions such as _update_step_xla, lstm_cell_22_layer_call_fn, lstm_cell_22_layer_call_and_return_conditional_losses while saving (showing 3 of 3). These functions will not be directly callable after loading.\n"
          ]
        },
        {
          "output_type": "stream",
          "name": "stdout",
          "text": [
            "\b\b\b\b\b\b\b\b\b\b\b\b\b\b\b\b\b\b\b\b\b\b\b\b\b\b\b\b\b\b\b\b\b\b\b\b\b\b\b\b\b\b\b\b\b\b\b\b\b\b\b\b\b\b\b\b\b\b\b\b\b\b\b\b\b\b\b\b\b\b\b\b\b\b\b\b\b\b\b\b\b\b\b\b\b\b\b\b\b\b\b\b\b\b\b\b\b\r25/25 [==============================] - 5s 224ms/step - loss: 0.0043 - root_mean_squared_error: 0.0655 - val_loss: 0.0093 - val_root_mean_squared_error: 0.0963\n",
            "Epoch 62/100\n",
            "20/25 [=======================>......] - ETA: 0s - loss: 0.0042 - root_mean_squared_error: 0.0649"
          ]
        },
        {
          "output_type": "stream",
          "name": "stderr",
          "text": [
            "WARNING:absl:Found untraced functions such as _update_step_xla, lstm_cell_22_layer_call_fn, lstm_cell_22_layer_call_and_return_conditional_losses while saving (showing 3 of 3). These functions will not be directly callable after loading.\n"
          ]
        },
        {
          "output_type": "stream",
          "name": "stdout",
          "text": [
            "\b\b\b\b\b\b\b\b\b\b\b\b\b\b\b\b\b\b\b\b\b\b\b\b\b\b\b\b\b\b\b\b\b\b\b\b\b\b\b\b\b\b\b\b\b\b\b\b\b\b\b\b\b\b\b\b\b\b\b\b\b\b\b\b\b\b\b\b\b\b\b\b\b\b\b\b\b\b\b\b\b\b\b\b\b\b\b\b\b\b\b\b\b\b\b\b\b\r25/25 [==============================] - 6s 247ms/step - loss: 0.0042 - root_mean_squared_error: 0.0652 - val_loss: 0.0092 - val_root_mean_squared_error: 0.0962\n",
            "Epoch 63/100\n",
            "25/25 [==============================] - 0s 12ms/step - loss: 0.0042 - root_mean_squared_error: 0.0651 - val_loss: 0.0104 - val_root_mean_squared_error: 0.1021\n",
            "Epoch 64/100\n",
            "25/25 [==============================] - 0s 13ms/step - loss: 0.0042 - root_mean_squared_error: 0.0651 - val_loss: 0.0094 - val_root_mean_squared_error: 0.0971\n",
            "Epoch 65/100\n",
            "22/25 [=========================>....] - ETA: 0s - loss: 0.0044 - root_mean_squared_error: 0.0666"
          ]
        },
        {
          "output_type": "stream",
          "name": "stderr",
          "text": [
            "WARNING:absl:Found untraced functions such as _update_step_xla, lstm_cell_22_layer_call_fn, lstm_cell_22_layer_call_and_return_conditional_losses while saving (showing 3 of 3). These functions will not be directly callable after loading.\n"
          ]
        },
        {
          "output_type": "stream",
          "name": "stdout",
          "text": [
            "\b\b\b\b\b\b\b\b\b\b\b\b\b\b\b\b\b\b\b\b\b\b\b\b\b\b\b\b\b\b\b\b\b\b\b\b\b\b\b\b\b\b\b\b\b\b\b\b\b\b\b\b\b\b\b\b\b\b\b\b\b\b\b\b\b\b\b\b\b\b\b\b\b\b\b\b\b\b\b\b\b\b\b\b\b\b\b\b\b\b\b\b\b\b\b\b\b\r25/25 [==============================] - 6s 241ms/step - loss: 0.0044 - root_mean_squared_error: 0.0660 - val_loss: 0.0087 - val_root_mean_squared_error: 0.0935\n",
            "Epoch 66/100\n",
            "25/25 [==============================] - 0s 11ms/step - loss: 0.0043 - root_mean_squared_error: 0.0657 - val_loss: 0.0089 - val_root_mean_squared_error: 0.0945\n",
            "Epoch 67/100\n",
            "25/25 [==============================] - 0s 12ms/step - loss: 0.0043 - root_mean_squared_error: 0.0652 - val_loss: 0.0096 - val_root_mean_squared_error: 0.0981\n",
            "Epoch 68/100\n",
            "25/25 [==============================] - 0s 10ms/step - loss: 0.0041 - root_mean_squared_error: 0.0641 - val_loss: 0.0099 - val_root_mean_squared_error: 0.0993\n",
            "Epoch 69/100\n",
            "25/25 [==============================] - 0s 10ms/step - loss: 0.0041 - root_mean_squared_error: 0.0644 - val_loss: 0.0096 - val_root_mean_squared_error: 0.0982\n",
            "Epoch 70/100\n",
            "25/25 [==============================] - 0s 11ms/step - loss: 0.0041 - root_mean_squared_error: 0.0638 - val_loss: 0.0092 - val_root_mean_squared_error: 0.0958\n",
            "Epoch 71/100\n",
            "25/25 [==============================] - 0s 11ms/step - loss: 0.0040 - root_mean_squared_error: 0.0635 - val_loss: 0.0090 - val_root_mean_squared_error: 0.0950\n",
            "Epoch 72/100\n",
            "24/25 [===========================>..] - ETA: 0s - loss: 0.0041 - root_mean_squared_error: 0.0637"
          ]
        },
        {
          "output_type": "stream",
          "name": "stderr",
          "text": [
            "WARNING:absl:Found untraced functions such as _update_step_xla, lstm_cell_22_layer_call_fn, lstm_cell_22_layer_call_and_return_conditional_losses while saving (showing 3 of 3). These functions will not be directly callable after loading.\n"
          ]
        },
        {
          "output_type": "stream",
          "name": "stdout",
          "text": [
            "\b\b\b\b\b\b\b\b\b\b\b\b\b\b\b\b\b\b\b\b\b\b\b\b\b\b\b\b\b\b\b\b\b\b\b\b\b\b\b\b\b\b\b\b\b\b\b\b\b\b\b\b\b\b\b\b\b\b\b\b\b\b\b\b\b\b\b\b\b\b\b\b\b\b\b\b\b\b\b\b\b\b\b\b\b\b\b\b\b\b\b\b\b\b\b\b\b\r25/25 [==============================] - 6s 266ms/step - loss: 0.0040 - root_mean_squared_error: 0.0635 - val_loss: 0.0087 - val_root_mean_squared_error: 0.0934\n",
            "Epoch 73/100\n",
            "25/25 [==============================] - 0s 15ms/step - loss: 0.0040 - root_mean_squared_error: 0.0633 - val_loss: 0.0090 - val_root_mean_squared_error: 0.0950\n",
            "Epoch 74/100\n",
            "25/25 [==============================] - 0s 17ms/step - loss: 0.0040 - root_mean_squared_error: 0.0634 - val_loss: 0.0092 - val_root_mean_squared_error: 0.0959\n",
            "Epoch 75/100\n",
            "25/25 [==============================] - 0s 17ms/step - loss: 0.0040 - root_mean_squared_error: 0.0634 - val_loss: 0.0096 - val_root_mean_squared_error: 0.0981\n",
            "Epoch 76/100\n",
            "25/25 [==============================] - 0s 12ms/step - loss: 0.0040 - root_mean_squared_error: 0.0629 - val_loss: 0.0101 - val_root_mean_squared_error: 0.1004\n",
            "Epoch 77/100\n",
            "25/25 [==============================] - 0s 10ms/step - loss: 0.0040 - root_mean_squared_error: 0.0631 - val_loss: 0.0089 - val_root_mean_squared_error: 0.0944\n",
            "Epoch 78/100\n",
            "25/25 [==============================] - 0s 11ms/step - loss: 0.0039 - root_mean_squared_error: 0.0628 - val_loss: 0.0089 - val_root_mean_squared_error: 0.0941\n",
            "Epoch 79/100\n",
            "22/25 [=========================>....] - ETA: 0s - loss: 0.0039 - root_mean_squared_error: 0.0626"
          ]
        },
        {
          "output_type": "stream",
          "name": "stderr",
          "text": [
            "WARNING:absl:Found untraced functions such as _update_step_xla, lstm_cell_22_layer_call_fn, lstm_cell_22_layer_call_and_return_conditional_losses while saving (showing 3 of 3). These functions will not be directly callable after loading.\n"
          ]
        },
        {
          "output_type": "stream",
          "name": "stdout",
          "text": [
            "\b\b\b\b\b\b\b\b\b\b\b\b\b\b\b\b\b\b\b\b\b\b\b\b\b\b\b\b\b\b\b\b\b\b\b\b\b\b\b\b\b\b\b\b\b\b\b\b\b\b\b\b\b\b\b\b\b\b\b\b\b\b\b\b\b\b\b\b\b\b\b\b\b\b\b\b\b\b\b\b\b\b\b\b\b\b\b\b\b\b\b\b\b\b\b\b\b\r25/25 [==============================] - 5s 208ms/step - loss: 0.0039 - root_mean_squared_error: 0.0624 - val_loss: 0.0086 - val_root_mean_squared_error: 0.0929\n",
            "Epoch 80/100\n",
            "25/25 [==============================] - 0s 10ms/step - loss: 0.0040 - root_mean_squared_error: 0.0635 - val_loss: 0.0097 - val_root_mean_squared_error: 0.0985\n",
            "Epoch 81/100\n",
            "24/25 [===========================>..] - ETA: 0s - loss: 0.0039 - root_mean_squared_error: 0.0627"
          ]
        },
        {
          "output_type": "stream",
          "name": "stderr",
          "text": [
            "WARNING:absl:Found untraced functions such as _update_step_xla, lstm_cell_22_layer_call_fn, lstm_cell_22_layer_call_and_return_conditional_losses while saving (showing 3 of 3). These functions will not be directly callable after loading.\n"
          ]
        },
        {
          "output_type": "stream",
          "name": "stdout",
          "text": [
            "\b\b\b\b\b\b\b\b\b\b\b\b\b\b\b\b\b\b\b\b\b\b\b\b\b\b\b\b\b\b\b\b\b\b\b\b\b\b\b\b\b\b\b\b\b\b\b\b\b\b\b\b\b\b\b\b\b\b\b\b\b\b\b\b\b\b\b\b\b\b\b\b\b\b\b\b\b\b\b\b\b\b\b\b\b\b\b\b\b\b\b\b\b\b\b\b\b\r25/25 [==============================] - 6s 264ms/step - loss: 0.0039 - root_mean_squared_error: 0.0624 - val_loss: 0.0085 - val_root_mean_squared_error: 0.0923\n",
            "Epoch 82/100\n",
            "25/25 [==============================] - 0s 12ms/step - loss: 0.0039 - root_mean_squared_error: 0.0622 - val_loss: 0.0086 - val_root_mean_squared_error: 0.0929\n",
            "Epoch 83/100\n",
            "25/25 [==============================] - 0s 11ms/step - loss: 0.0038 - root_mean_squared_error: 0.0617 - val_loss: 0.0088 - val_root_mean_squared_error: 0.0939\n",
            "Epoch 84/100\n",
            "25/25 [==============================] - 0s 10ms/step - loss: 0.0039 - root_mean_squared_error: 0.0622 - val_loss: 0.0086 - val_root_mean_squared_error: 0.0926\n",
            "Epoch 85/100\n",
            "25/25 [==============================] - 0s 11ms/step - loss: 0.0038 - root_mean_squared_error: 0.0615 - val_loss: 0.0093 - val_root_mean_squared_error: 0.0962\n",
            "Epoch 86/100\n",
            "21/25 [========================>.....] - ETA: 0s - loss: 0.0040 - root_mean_squared_error: 0.0635"
          ]
        },
        {
          "output_type": "stream",
          "name": "stderr",
          "text": [
            "WARNING:absl:Found untraced functions such as _update_step_xla, lstm_cell_22_layer_call_fn, lstm_cell_22_layer_call_and_return_conditional_losses while saving (showing 3 of 3). These functions will not be directly callable after loading.\n"
          ]
        },
        {
          "output_type": "stream",
          "name": "stdout",
          "text": [
            "\b\b\b\b\b\b\b\b\b\b\b\b\b\b\b\b\b\b\b\b\b\b\b\b\b\b\b\b\b\b\b\b\b\b\b\b\b\b\b\b\b\b\b\b\b\b\b\b\b\b\b\b\b\b\b\b\b\b\b\b\b\b\b\b\b\b\b\b\b\b\b\b\b\b\b\b\b\b\b\b\b\b\b\b\b\b\b\b\b\b\b\b\b\b\b\b\b\r25/25 [==============================] - 5s 211ms/step - loss: 0.0038 - root_mean_squared_error: 0.0618 - val_loss: 0.0085 - val_root_mean_squared_error: 0.0923\n",
            "Epoch 87/100\n",
            "25/25 [==============================] - 0s 11ms/step - loss: 0.0038 - root_mean_squared_error: 0.0615 - val_loss: 0.0094 - val_root_mean_squared_error: 0.0969\n",
            "Epoch 88/100\n",
            "21/25 [========================>.....] - ETA: 0s - loss: 0.0039 - root_mean_squared_error: 0.0626"
          ]
        },
        {
          "output_type": "stream",
          "name": "stderr",
          "text": [
            "WARNING:absl:Found untraced functions such as _update_step_xla, lstm_cell_22_layer_call_fn, lstm_cell_22_layer_call_and_return_conditional_losses while saving (showing 3 of 3). These functions will not be directly callable after loading.\n"
          ]
        },
        {
          "output_type": "stream",
          "name": "stdout",
          "text": [
            "\b\b\b\b\b\b\b\b\b\b\b\b\b\b\b\b\b\b\b\b\b\b\b\b\b\b\b\b\b\b\b\b\b\b\b\b\b\b\b\b\b\b\b\b\b\b\b\b\b\b\b\b\b\b\b\b\b\b\b\b\b\b\b\b\b\b\b\b\b\b\b\b\b\b\b\b\b\b\b\b\b\b\b\b\b\b\b\b\b\b\b\b\b\b\b\b\b\r25/25 [==============================] - 6s 242ms/step - loss: 0.0037 - root_mean_squared_error: 0.0610 - val_loss: 0.0080 - val_root_mean_squared_error: 0.0894\n",
            "Epoch 89/100\n",
            "25/25 [==============================] - 0s 15ms/step - loss: 0.0038 - root_mean_squared_error: 0.0616 - val_loss: 0.0082 - val_root_mean_squared_error: 0.0904\n",
            "Epoch 90/100\n",
            "25/25 [==============================] - 0s 11ms/step - loss: 0.0037 - root_mean_squared_error: 0.0609 - val_loss: 0.0087 - val_root_mean_squared_error: 0.0933\n",
            "Epoch 91/100\n",
            "24/25 [===========================>..] - ETA: 0s - loss: 0.0036 - root_mean_squared_error: 0.0600"
          ]
        },
        {
          "output_type": "stream",
          "name": "stderr",
          "text": [
            "WARNING:absl:Found untraced functions such as _update_step_xla, lstm_cell_22_layer_call_fn, lstm_cell_22_layer_call_and_return_conditional_losses while saving (showing 3 of 3). These functions will not be directly callable after loading.\n"
          ]
        },
        {
          "output_type": "stream",
          "name": "stdout",
          "text": [
            "\b\b\b\b\b\b\b\b\b\b\b\b\b\b\b\b\b\b\b\b\b\b\b\b\b\b\b\b\b\b\b\b\b\b\b\b\b\b\b\b\b\b\b\b\b\b\b\b\b\b\b\b\b\b\b\b\b\b\b\b\b\b\b\b\b\b\b\b\b\b\b\b\b\b\b\b\b\b\b\b\b\b\b\b\b\b\b\b\b\b\b\b\b\b\b\b\b\r25/25 [==============================] - 6s 240ms/step - loss: 0.0036 - root_mean_squared_error: 0.0603 - val_loss: 0.0079 - val_root_mean_squared_error: 0.0889\n",
            "Epoch 92/100\n",
            "23/25 [==========================>...] - ETA: 0s - loss: 0.0033 - root_mean_squared_error: 0.0575"
          ]
        },
        {
          "output_type": "stream",
          "name": "stderr",
          "text": [
            "WARNING:absl:Found untraced functions such as _update_step_xla, lstm_cell_22_layer_call_fn, lstm_cell_22_layer_call_and_return_conditional_losses while saving (showing 3 of 3). These functions will not be directly callable after loading.\n"
          ]
        },
        {
          "output_type": "stream",
          "name": "stdout",
          "text": [
            "\b\b\b\b\b\b\b\b\b\b\b\b\b\b\b\b\b\b\b\b\b\b\b\b\b\b\b\b\b\b\b\b\b\b\b\b\b\b\b\b\b\b\b\b\b\b\b\b\b\b\b\b\b\b\b\b\b\b\b\b\b\b\b\b\b\b\b\b\b\b\b\b\b\b\b\b\b\b\b\b\b\b\b\b\b\b\b\b\b\b\b\b\b\b\b\b\b\r25/25 [==============================] - 6s 240ms/step - loss: 0.0036 - root_mean_squared_error: 0.0604 - val_loss: 0.0079 - val_root_mean_squared_error: 0.0887\n",
            "Epoch 93/100\n",
            "25/25 [==============================] - 0s 17ms/step - loss: 0.0037 - root_mean_squared_error: 0.0606 - val_loss: 0.0081 - val_root_mean_squared_error: 0.0900\n",
            "Epoch 94/100\n",
            "25/25 [==============================] - 0s 17ms/step - loss: 0.0036 - root_mean_squared_error: 0.0600 - val_loss: 0.0082 - val_root_mean_squared_error: 0.0904\n",
            "Epoch 95/100\n",
            "25/25 [==============================] - 0s 11ms/step - loss: 0.0036 - root_mean_squared_error: 0.0598 - val_loss: 0.0087 - val_root_mean_squared_error: 0.0935\n",
            "Epoch 96/100\n",
            "25/25 [==============================] - 0s 11ms/step - loss: 0.0036 - root_mean_squared_error: 0.0599 - val_loss: 0.0086 - val_root_mean_squared_error: 0.0930\n",
            "Epoch 97/100\n",
            "21/25 [========================>.....] - ETA: 0s - loss: 0.0035 - root_mean_squared_error: 0.0595"
          ]
        },
        {
          "output_type": "stream",
          "name": "stderr",
          "text": [
            "WARNING:absl:Found untraced functions such as _update_step_xla, lstm_cell_22_layer_call_fn, lstm_cell_22_layer_call_and_return_conditional_losses while saving (showing 3 of 3). These functions will not be directly callable after loading.\n"
          ]
        },
        {
          "output_type": "stream",
          "name": "stdout",
          "text": [
            "\b\b\b\b\b\b\b\b\b\b\b\b\b\b\b\b\b\b\b\b\b\b\b\b\b\b\b\b\b\b\b\b\b\b\b\b\b\b\b\b\b\b\b\b\b\b\b\b\b\b\b\b\b\b\b\b\b\b\b\b\b\b\b\b\b\b\b\b\b\b\b\b\b\b\b\b\b\b\b\b\b\b\b\b\b\b\b\b\b\b\b\b\b\b\b\b\b\r25/25 [==============================] - 6s 251ms/step - loss: 0.0036 - root_mean_squared_error: 0.0598 - val_loss: 0.0076 - val_root_mean_squared_error: 0.0872\n",
            "Epoch 98/100\n",
            "25/25 [==============================] - 0s 13ms/step - loss: 0.0035 - root_mean_squared_error: 0.0595 - val_loss: 0.0081 - val_root_mean_squared_error: 0.0902\n",
            "Epoch 99/100\n",
            "25/25 [==============================] - 0s 11ms/step - loss: 0.0036 - root_mean_squared_error: 0.0602 - val_loss: 0.0087 - val_root_mean_squared_error: 0.0932\n",
            "Epoch 100/100\n",
            "20/25 [=======================>......] - ETA: 0s - loss: 0.0040 - root_mean_squared_error: 0.0630"
          ]
        },
        {
          "output_type": "stream",
          "name": "stderr",
          "text": [
            "WARNING:absl:Found untraced functions such as _update_step_xla, lstm_cell_22_layer_call_fn, lstm_cell_22_layer_call_and_return_conditional_losses while saving (showing 3 of 3). These functions will not be directly callable after loading.\n"
          ]
        },
        {
          "output_type": "stream",
          "name": "stdout",
          "text": [
            "\b\b\b\b\b\b\b\b\b\b\b\b\b\b\b\b\b\b\b\b\b\b\b\b\b\b\b\b\b\b\b\b\b\b\b\b\b\b\b\b\b\b\b\b\b\b\b\b\b\b\b\b\b\b\b\b\b\b\b\b\b\b\b\b\b\b\b\b\b\b\b\b\b\b\b\b\b\b\b\b\b\b\b\b\b\b\b\b\b\b\b\b\b\b\b\b\b\r25/25 [==============================] - 7s 291ms/step - loss: 0.0036 - root_mean_squared_error: 0.0597 - val_loss: 0.0076 - val_root_mean_squared_error: 0.0870\n"
          ]
        }
      ]
    },
    {
      "cell_type": "code",
      "source": [
        "predictions = model.predict(test_X)\n",
        "\n",
        "predictions = inverse_norm(to_inverse=predictions,\n",
        "                          norm_initial_dataset=norm_dataset,\n",
        "                          training_data_len=training_data_len,\n",
        "                          lookback_window=lookback_window,\n",
        "                          lookforward_window=lookforward_window,\n",
        "                          scaler=scaler,\n",
        "                          type='predictions')\n",
        "actuals = inverse_norm(to_inverse=test_y,\n",
        "                      norm_initial_dataset=norm_dataset,\n",
        "                      training_data_len=training_data_len,\n",
        "                      lookback_window=lookback_window,\n",
        "                      lookforward_window=lookforward_window,\n",
        "                      scaler=scaler, type='actuals')\n"
      ],
      "metadata": {
        "colab": {
          "base_uri": "https://localhost:8080/"
        },
        "id": "tKdykfKVRrmq",
        "outputId": "3f213479-6974-43b1-90f5-7815c5a11ed6"
      },
      "execution_count": 183,
      "outputs": [
        {
          "output_type": "stream",
          "name": "stdout",
          "text": [
            "11/11 [==============================] - 0s 4ms/step\n"
          ]
        }
      ]
    },
    {
      "cell_type": "code",
      "source": [
        "comp_df_to_plot = get_comp_df_to_plot(csv_path, sheet_name, predictions)\n",
        "comp_df_to_plot"
      ],
      "metadata": {
        "colab": {
          "base_uri": "https://localhost:8080/",
          "height": 423
        },
        "id": "GkeZZGrl8inw",
        "outputId": "07d45cc1-091a-4252-ce95-d963bbda37f9"
      },
      "execution_count": 184,
      "outputs": [
        {
          "output_type": "execute_result",
          "data": {
            "text/plain": [
              "      week  actuals  predictions\n",
              "0        1   684.00          NaN\n",
              "1        2   684.00          NaN\n",
              "2        3   684.00          NaN\n",
              "3        4   684.00          NaN\n",
              "4        5   684.00          NaN\n",
              "...    ...      ...          ...\n",
              "1134  1135    69.04   148.194695\n",
              "1135  1136    69.04   136.024620\n",
              "1136  1137    69.04   147.460407\n",
              "1137  1138    69.04   153.302860\n",
              "1138  1139    69.04   138.902507\n",
              "\n",
              "[1139 rows x 3 columns]"
            ],
            "text/html": [
              "\n",
              "\n",
              "  <div id=\"df-e891ac59-a7b6-41fd-9910-13fafcf2c1ce\">\n",
              "    <div class=\"colab-df-container\">\n",
              "      <div>\n",
              "<style scoped>\n",
              "    .dataframe tbody tr th:only-of-type {\n",
              "        vertical-align: middle;\n",
              "    }\n",
              "\n",
              "    .dataframe tbody tr th {\n",
              "        vertical-align: top;\n",
              "    }\n",
              "\n",
              "    .dataframe thead th {\n",
              "        text-align: right;\n",
              "    }\n",
              "</style>\n",
              "<table border=\"1\" class=\"dataframe\">\n",
              "  <thead>\n",
              "    <tr style=\"text-align: right;\">\n",
              "      <th></th>\n",
              "      <th>week</th>\n",
              "      <th>actuals</th>\n",
              "      <th>predictions</th>\n",
              "    </tr>\n",
              "  </thead>\n",
              "  <tbody>\n",
              "    <tr>\n",
              "      <th>0</th>\n",
              "      <td>1</td>\n",
              "      <td>684.00</td>\n",
              "      <td>NaN</td>\n",
              "    </tr>\n",
              "    <tr>\n",
              "      <th>1</th>\n",
              "      <td>2</td>\n",
              "      <td>684.00</td>\n",
              "      <td>NaN</td>\n",
              "    </tr>\n",
              "    <tr>\n",
              "      <th>2</th>\n",
              "      <td>3</td>\n",
              "      <td>684.00</td>\n",
              "      <td>NaN</td>\n",
              "    </tr>\n",
              "    <tr>\n",
              "      <th>3</th>\n",
              "      <td>4</td>\n",
              "      <td>684.00</td>\n",
              "      <td>NaN</td>\n",
              "    </tr>\n",
              "    <tr>\n",
              "      <th>4</th>\n",
              "      <td>5</td>\n",
              "      <td>684.00</td>\n",
              "      <td>NaN</td>\n",
              "    </tr>\n",
              "    <tr>\n",
              "      <th>...</th>\n",
              "      <td>...</td>\n",
              "      <td>...</td>\n",
              "      <td>...</td>\n",
              "    </tr>\n",
              "    <tr>\n",
              "      <th>1134</th>\n",
              "      <td>1135</td>\n",
              "      <td>69.04</td>\n",
              "      <td>148.194695</td>\n",
              "    </tr>\n",
              "    <tr>\n",
              "      <th>1135</th>\n",
              "      <td>1136</td>\n",
              "      <td>69.04</td>\n",
              "      <td>136.024620</td>\n",
              "    </tr>\n",
              "    <tr>\n",
              "      <th>1136</th>\n",
              "      <td>1137</td>\n",
              "      <td>69.04</td>\n",
              "      <td>147.460407</td>\n",
              "    </tr>\n",
              "    <tr>\n",
              "      <th>1137</th>\n",
              "      <td>1138</td>\n",
              "      <td>69.04</td>\n",
              "      <td>153.302860</td>\n",
              "    </tr>\n",
              "    <tr>\n",
              "      <th>1138</th>\n",
              "      <td>1139</td>\n",
              "      <td>69.04</td>\n",
              "      <td>138.902507</td>\n",
              "    </tr>\n",
              "  </tbody>\n",
              "</table>\n",
              "<p>1139 rows × 3 columns</p>\n",
              "</div>\n",
              "      <button class=\"colab-df-convert\" onclick=\"convertToInteractive('df-e891ac59-a7b6-41fd-9910-13fafcf2c1ce')\"\n",
              "              title=\"Convert this dataframe to an interactive table.\"\n",
              "              style=\"display:none;\">\n",
              "\n",
              "  <svg xmlns=\"http://www.w3.org/2000/svg\" height=\"24px\"viewBox=\"0 0 24 24\"\n",
              "       width=\"24px\">\n",
              "    <path d=\"M0 0h24v24H0V0z\" fill=\"none\"/>\n",
              "    <path d=\"M18.56 5.44l.94 2.06.94-2.06 2.06-.94-2.06-.94-.94-2.06-.94 2.06-2.06.94zm-11 1L8.5 8.5l.94-2.06 2.06-.94-2.06-.94L8.5 2.5l-.94 2.06-2.06.94zm10 10l.94 2.06.94-2.06 2.06-.94-2.06-.94-.94-2.06-.94 2.06-2.06.94z\"/><path d=\"M17.41 7.96l-1.37-1.37c-.4-.4-.92-.59-1.43-.59-.52 0-1.04.2-1.43.59L10.3 9.45l-7.72 7.72c-.78.78-.78 2.05 0 2.83L4 21.41c.39.39.9.59 1.41.59.51 0 1.02-.2 1.41-.59l7.78-7.78 2.81-2.81c.8-.78.8-2.07 0-2.86zM5.41 20L4 18.59l7.72-7.72 1.47 1.35L5.41 20z\"/>\n",
              "  </svg>\n",
              "      </button>\n",
              "\n",
              "\n",
              "\n",
              "    <div id=\"df-f0368bfa-427c-4fd3-969b-20844fb7aa6d\">\n",
              "      <button class=\"colab-df-quickchart\" onclick=\"quickchart('df-f0368bfa-427c-4fd3-969b-20844fb7aa6d')\"\n",
              "              title=\"Suggest charts.\"\n",
              "              style=\"display:none;\">\n",
              "\n",
              "<svg xmlns=\"http://www.w3.org/2000/svg\" height=\"24px\"viewBox=\"0 0 24 24\"\n",
              "     width=\"24px\">\n",
              "    <g>\n",
              "        <path d=\"M19 3H5c-1.1 0-2 .9-2 2v14c0 1.1.9 2 2 2h14c1.1 0 2-.9 2-2V5c0-1.1-.9-2-2-2zM9 17H7v-7h2v7zm4 0h-2V7h2v10zm4 0h-2v-4h2v4z\"/>\n",
              "    </g>\n",
              "</svg>\n",
              "      </button>\n",
              "    </div>\n",
              "\n",
              "<style>\n",
              "  .colab-df-quickchart {\n",
              "    background-color: #E8F0FE;\n",
              "    border: none;\n",
              "    border-radius: 50%;\n",
              "    cursor: pointer;\n",
              "    display: none;\n",
              "    fill: #1967D2;\n",
              "    height: 32px;\n",
              "    padding: 0 0 0 0;\n",
              "    width: 32px;\n",
              "  }\n",
              "\n",
              "  .colab-df-quickchart:hover {\n",
              "    background-color: #E2EBFA;\n",
              "    box-shadow: 0px 1px 2px rgba(60, 64, 67, 0.3), 0px 1px 3px 1px rgba(60, 64, 67, 0.15);\n",
              "    fill: #174EA6;\n",
              "  }\n",
              "\n",
              "  [theme=dark] .colab-df-quickchart {\n",
              "    background-color: #3B4455;\n",
              "    fill: #D2E3FC;\n",
              "  }\n",
              "\n",
              "  [theme=dark] .colab-df-quickchart:hover {\n",
              "    background-color: #434B5C;\n",
              "    box-shadow: 0px 1px 3px 1px rgba(0, 0, 0, 0.15);\n",
              "    filter: drop-shadow(0px 1px 2px rgba(0, 0, 0, 0.3));\n",
              "    fill: #FFFFFF;\n",
              "  }\n",
              "</style>\n",
              "\n",
              "    <script>\n",
              "      async function quickchart(key) {\n",
              "        const containerElement = document.querySelector('#' + key);\n",
              "        const charts = await google.colab.kernel.invokeFunction(\n",
              "            'suggestCharts', [key], {});\n",
              "      }\n",
              "    </script>\n",
              "\n",
              "      <script>\n",
              "\n",
              "function displayQuickchartButton(domScope) {\n",
              "  let quickchartButtonEl =\n",
              "    domScope.querySelector('#df-f0368bfa-427c-4fd3-969b-20844fb7aa6d button.colab-df-quickchart');\n",
              "  quickchartButtonEl.style.display =\n",
              "    google.colab.kernel.accessAllowed ? 'block' : 'none';\n",
              "}\n",
              "\n",
              "        displayQuickchartButton(document);\n",
              "      </script>\n",
              "      <style>\n",
              "    .colab-df-container {\n",
              "      display:flex;\n",
              "      flex-wrap:wrap;\n",
              "      gap: 12px;\n",
              "    }\n",
              "\n",
              "    .colab-df-convert {\n",
              "      background-color: #E8F0FE;\n",
              "      border: none;\n",
              "      border-radius: 50%;\n",
              "      cursor: pointer;\n",
              "      display: none;\n",
              "      fill: #1967D2;\n",
              "      height: 32px;\n",
              "      padding: 0 0 0 0;\n",
              "      width: 32px;\n",
              "    }\n",
              "\n",
              "    .colab-df-convert:hover {\n",
              "      background-color: #E2EBFA;\n",
              "      box-shadow: 0px 1px 2px rgba(60, 64, 67, 0.3), 0px 1px 3px 1px rgba(60, 64, 67, 0.15);\n",
              "      fill: #174EA6;\n",
              "    }\n",
              "\n",
              "    [theme=dark] .colab-df-convert {\n",
              "      background-color: #3B4455;\n",
              "      fill: #D2E3FC;\n",
              "    }\n",
              "\n",
              "    [theme=dark] .colab-df-convert:hover {\n",
              "      background-color: #434B5C;\n",
              "      box-shadow: 0px 1px 3px 1px rgba(0, 0, 0, 0.15);\n",
              "      filter: drop-shadow(0px 1px 2px rgba(0, 0, 0, 0.3));\n",
              "      fill: #FFFFFF;\n",
              "    }\n",
              "  </style>\n",
              "\n",
              "      <script>\n",
              "        const buttonEl =\n",
              "          document.querySelector('#df-e891ac59-a7b6-41fd-9910-13fafcf2c1ce button.colab-df-convert');\n",
              "        buttonEl.style.display =\n",
              "          google.colab.kernel.accessAllowed ? 'block' : 'none';\n",
              "\n",
              "        async function convertToInteractive(key) {\n",
              "          const element = document.querySelector('#df-e891ac59-a7b6-41fd-9910-13fafcf2c1ce');\n",
              "          const dataTable =\n",
              "            await google.colab.kernel.invokeFunction('convertToInteractive',\n",
              "                                                     [key], {});\n",
              "          if (!dataTable) return;\n",
              "\n",
              "          const docLinkHtml = 'Like what you see? Visit the ' +\n",
              "            '<a target=\"_blank\" href=https://colab.research.google.com/notebooks/data_table.ipynb>data table notebook</a>'\n",
              "            + ' to learn more about interactive tables.';\n",
              "          element.innerHTML = '';\n",
              "          dataTable['output_type'] = 'display_data';\n",
              "          await google.colab.output.renderOutput(dataTable, element);\n",
              "          const docLink = document.createElement('div');\n",
              "          docLink.innerHTML = docLinkHtml;\n",
              "          element.appendChild(docLink);\n",
              "        }\n",
              "      </script>\n",
              "    </div>\n",
              "  </div>\n"
            ]
          },
          "metadata": {},
          "execution_count": 184
        }
      ]
    },
    {
      "cell_type": "code",
      "source": [
        "if lookforward_window == 1:\n",
        "  title = f'Price predictions for the first week ahead ({sheet_name})'\n",
        "if lookforward_window == 2:\n",
        "  title = f'Price predictions for the second week ahead ({sheet_name})'\n",
        "if lookforward_window == 3:\n",
        "  title = f'Price predictions for the third week ahead ({sheet_name})'\n",
        "if lookforward_window == 4:\n",
        "  title = f'Price predictions for the fourth week ahead ({sheet_name})'\n",
        "benchmark_df = comp_df_to_plot[1018:1045]\n",
        "benchmark_df.to_csv(f'benchmark_df_{title}.csv')\n",
        "files.download(f'benchmark_df_{title}.csv')"
      ],
      "metadata": {
        "colab": {
          "base_uri": "https://localhost:8080/",
          "height": 896
        },
        "id": "8Soa2w6UkSYu",
        "outputId": "e383e98c-4563-4755-822c-1af54127584b"
      },
      "execution_count": 182,
      "outputs": [
        {
          "output_type": "execute_result",
          "data": {
            "text/plain": [
              "      week  actuals  predictions\n",
              "1018  1019   297.43   301.633894\n",
              "1019  1020   306.12   244.482667\n",
              "1020  1021   215.56   277.108965\n",
              "1021  1022   184.35   301.544261\n",
              "1022  1023   152.10   293.155157\n",
              "1023  1024   170.45   291.633359\n",
              "1024  1025   173.37   289.944181\n",
              "1025  1026   184.15   260.867134\n",
              "1026  1027   119.64   238.835732\n",
              "1027  1028    70.71   231.842261\n",
              "1028  1029   117.40   214.560300\n",
              "1029  1030   126.23   187.257878\n",
              "1030  1031    99.96   184.851739\n",
              "1031  1032   125.43   191.528080\n",
              "1032  1033   108.77   187.432128\n",
              "1033  1034   161.94   193.903972\n",
              "1034  1035   146.95   187.047231\n",
              "1035  1036   207.05   189.126089\n",
              "1036  1037   191.80   195.281352\n",
              "1037  1038   230.39   218.530698\n",
              "1038  1039   231.73   232.503632\n",
              "1039  1040   252.82   254.434128\n",
              "1040  1041   276.15   271.267830\n",
              "1041  1042   284.47   276.359914\n",
              "1042  1043   321.30   292.887528\n",
              "1043  1044   583.88   293.302136\n",
              "1044  1045   583.88   310.682515"
            ],
            "text/html": [
              "\n",
              "\n",
              "  <div id=\"df-1bdeefc3-48ee-46c2-ba0b-15d0bf0665d4\">\n",
              "    <div class=\"colab-df-container\">\n",
              "      <div>\n",
              "<style scoped>\n",
              "    .dataframe tbody tr th:only-of-type {\n",
              "        vertical-align: middle;\n",
              "    }\n",
              "\n",
              "    .dataframe tbody tr th {\n",
              "        vertical-align: top;\n",
              "    }\n",
              "\n",
              "    .dataframe thead th {\n",
              "        text-align: right;\n",
              "    }\n",
              "</style>\n",
              "<table border=\"1\" class=\"dataframe\">\n",
              "  <thead>\n",
              "    <tr style=\"text-align: right;\">\n",
              "      <th></th>\n",
              "      <th>week</th>\n",
              "      <th>actuals</th>\n",
              "      <th>predictions</th>\n",
              "    </tr>\n",
              "  </thead>\n",
              "  <tbody>\n",
              "    <tr>\n",
              "      <th>1018</th>\n",
              "      <td>1019</td>\n",
              "      <td>297.43</td>\n",
              "      <td>301.633894</td>\n",
              "    </tr>\n",
              "    <tr>\n",
              "      <th>1019</th>\n",
              "      <td>1020</td>\n",
              "      <td>306.12</td>\n",
              "      <td>244.482667</td>\n",
              "    </tr>\n",
              "    <tr>\n",
              "      <th>1020</th>\n",
              "      <td>1021</td>\n",
              "      <td>215.56</td>\n",
              "      <td>277.108965</td>\n",
              "    </tr>\n",
              "    <tr>\n",
              "      <th>1021</th>\n",
              "      <td>1022</td>\n",
              "      <td>184.35</td>\n",
              "      <td>301.544261</td>\n",
              "    </tr>\n",
              "    <tr>\n",
              "      <th>1022</th>\n",
              "      <td>1023</td>\n",
              "      <td>152.10</td>\n",
              "      <td>293.155157</td>\n",
              "    </tr>\n",
              "    <tr>\n",
              "      <th>1023</th>\n",
              "      <td>1024</td>\n",
              "      <td>170.45</td>\n",
              "      <td>291.633359</td>\n",
              "    </tr>\n",
              "    <tr>\n",
              "      <th>1024</th>\n",
              "      <td>1025</td>\n",
              "      <td>173.37</td>\n",
              "      <td>289.944181</td>\n",
              "    </tr>\n",
              "    <tr>\n",
              "      <th>1025</th>\n",
              "      <td>1026</td>\n",
              "      <td>184.15</td>\n",
              "      <td>260.867134</td>\n",
              "    </tr>\n",
              "    <tr>\n",
              "      <th>1026</th>\n",
              "      <td>1027</td>\n",
              "      <td>119.64</td>\n",
              "      <td>238.835732</td>\n",
              "    </tr>\n",
              "    <tr>\n",
              "      <th>1027</th>\n",
              "      <td>1028</td>\n",
              "      <td>70.71</td>\n",
              "      <td>231.842261</td>\n",
              "    </tr>\n",
              "    <tr>\n",
              "      <th>1028</th>\n",
              "      <td>1029</td>\n",
              "      <td>117.40</td>\n",
              "      <td>214.560300</td>\n",
              "    </tr>\n",
              "    <tr>\n",
              "      <th>1029</th>\n",
              "      <td>1030</td>\n",
              "      <td>126.23</td>\n",
              "      <td>187.257878</td>\n",
              "    </tr>\n",
              "    <tr>\n",
              "      <th>1030</th>\n",
              "      <td>1031</td>\n",
              "      <td>99.96</td>\n",
              "      <td>184.851739</td>\n",
              "    </tr>\n",
              "    <tr>\n",
              "      <th>1031</th>\n",
              "      <td>1032</td>\n",
              "      <td>125.43</td>\n",
              "      <td>191.528080</td>\n",
              "    </tr>\n",
              "    <tr>\n",
              "      <th>1032</th>\n",
              "      <td>1033</td>\n",
              "      <td>108.77</td>\n",
              "      <td>187.432128</td>\n",
              "    </tr>\n",
              "    <tr>\n",
              "      <th>1033</th>\n",
              "      <td>1034</td>\n",
              "      <td>161.94</td>\n",
              "      <td>193.903972</td>\n",
              "    </tr>\n",
              "    <tr>\n",
              "      <th>1034</th>\n",
              "      <td>1035</td>\n",
              "      <td>146.95</td>\n",
              "      <td>187.047231</td>\n",
              "    </tr>\n",
              "    <tr>\n",
              "      <th>1035</th>\n",
              "      <td>1036</td>\n",
              "      <td>207.05</td>\n",
              "      <td>189.126089</td>\n",
              "    </tr>\n",
              "    <tr>\n",
              "      <th>1036</th>\n",
              "      <td>1037</td>\n",
              "      <td>191.80</td>\n",
              "      <td>195.281352</td>\n",
              "    </tr>\n",
              "    <tr>\n",
              "      <th>1037</th>\n",
              "      <td>1038</td>\n",
              "      <td>230.39</td>\n",
              "      <td>218.530698</td>\n",
              "    </tr>\n",
              "    <tr>\n",
              "      <th>1038</th>\n",
              "      <td>1039</td>\n",
              "      <td>231.73</td>\n",
              "      <td>232.503632</td>\n",
              "    </tr>\n",
              "    <tr>\n",
              "      <th>1039</th>\n",
              "      <td>1040</td>\n",
              "      <td>252.82</td>\n",
              "      <td>254.434128</td>\n",
              "    </tr>\n",
              "    <tr>\n",
              "      <th>1040</th>\n",
              "      <td>1041</td>\n",
              "      <td>276.15</td>\n",
              "      <td>271.267830</td>\n",
              "    </tr>\n",
              "    <tr>\n",
              "      <th>1041</th>\n",
              "      <td>1042</td>\n",
              "      <td>284.47</td>\n",
              "      <td>276.359914</td>\n",
              "    </tr>\n",
              "    <tr>\n",
              "      <th>1042</th>\n",
              "      <td>1043</td>\n",
              "      <td>321.30</td>\n",
              "      <td>292.887528</td>\n",
              "    </tr>\n",
              "    <tr>\n",
              "      <th>1043</th>\n",
              "      <td>1044</td>\n",
              "      <td>583.88</td>\n",
              "      <td>293.302136</td>\n",
              "    </tr>\n",
              "    <tr>\n",
              "      <th>1044</th>\n",
              "      <td>1045</td>\n",
              "      <td>583.88</td>\n",
              "      <td>310.682515</td>\n",
              "    </tr>\n",
              "  </tbody>\n",
              "</table>\n",
              "</div>\n",
              "      <button class=\"colab-df-convert\" onclick=\"convertToInteractive('df-1bdeefc3-48ee-46c2-ba0b-15d0bf0665d4')\"\n",
              "              title=\"Convert this dataframe to an interactive table.\"\n",
              "              style=\"display:none;\">\n",
              "\n",
              "  <svg xmlns=\"http://www.w3.org/2000/svg\" height=\"24px\"viewBox=\"0 0 24 24\"\n",
              "       width=\"24px\">\n",
              "    <path d=\"M0 0h24v24H0V0z\" fill=\"none\"/>\n",
              "    <path d=\"M18.56 5.44l.94 2.06.94-2.06 2.06-.94-2.06-.94-.94-2.06-.94 2.06-2.06.94zm-11 1L8.5 8.5l.94-2.06 2.06-.94-2.06-.94L8.5 2.5l-.94 2.06-2.06.94zm10 10l.94 2.06.94-2.06 2.06-.94-2.06-.94-.94-2.06-.94 2.06-2.06.94z\"/><path d=\"M17.41 7.96l-1.37-1.37c-.4-.4-.92-.59-1.43-.59-.52 0-1.04.2-1.43.59L10.3 9.45l-7.72 7.72c-.78.78-.78 2.05 0 2.83L4 21.41c.39.39.9.59 1.41.59.51 0 1.02-.2 1.41-.59l7.78-7.78 2.81-2.81c.8-.78.8-2.07 0-2.86zM5.41 20L4 18.59l7.72-7.72 1.47 1.35L5.41 20z\"/>\n",
              "  </svg>\n",
              "      </button>\n",
              "\n",
              "\n",
              "\n",
              "    <div id=\"df-8ba06909-d7ef-4fc3-b828-c8dfea9e676c\">\n",
              "      <button class=\"colab-df-quickchart\" onclick=\"quickchart('df-8ba06909-d7ef-4fc3-b828-c8dfea9e676c')\"\n",
              "              title=\"Suggest charts.\"\n",
              "              style=\"display:none;\">\n",
              "\n",
              "<svg xmlns=\"http://www.w3.org/2000/svg\" height=\"24px\"viewBox=\"0 0 24 24\"\n",
              "     width=\"24px\">\n",
              "    <g>\n",
              "        <path d=\"M19 3H5c-1.1 0-2 .9-2 2v14c0 1.1.9 2 2 2h14c1.1 0 2-.9 2-2V5c0-1.1-.9-2-2-2zM9 17H7v-7h2v7zm4 0h-2V7h2v10zm4 0h-2v-4h2v4z\"/>\n",
              "    </g>\n",
              "</svg>\n",
              "      </button>\n",
              "    </div>\n",
              "\n",
              "<style>\n",
              "  .colab-df-quickchart {\n",
              "    background-color: #E8F0FE;\n",
              "    border: none;\n",
              "    border-radius: 50%;\n",
              "    cursor: pointer;\n",
              "    display: none;\n",
              "    fill: #1967D2;\n",
              "    height: 32px;\n",
              "    padding: 0 0 0 0;\n",
              "    width: 32px;\n",
              "  }\n",
              "\n",
              "  .colab-df-quickchart:hover {\n",
              "    background-color: #E2EBFA;\n",
              "    box-shadow: 0px 1px 2px rgba(60, 64, 67, 0.3), 0px 1px 3px 1px rgba(60, 64, 67, 0.15);\n",
              "    fill: #174EA6;\n",
              "  }\n",
              "\n",
              "  [theme=dark] .colab-df-quickchart {\n",
              "    background-color: #3B4455;\n",
              "    fill: #D2E3FC;\n",
              "  }\n",
              "\n",
              "  [theme=dark] .colab-df-quickchart:hover {\n",
              "    background-color: #434B5C;\n",
              "    box-shadow: 0px 1px 3px 1px rgba(0, 0, 0, 0.15);\n",
              "    filter: drop-shadow(0px 1px 2px rgba(0, 0, 0, 0.3));\n",
              "    fill: #FFFFFF;\n",
              "  }\n",
              "</style>\n",
              "\n",
              "    <script>\n",
              "      async function quickchart(key) {\n",
              "        const containerElement = document.querySelector('#' + key);\n",
              "        const charts = await google.colab.kernel.invokeFunction(\n",
              "            'suggestCharts', [key], {});\n",
              "      }\n",
              "    </script>\n",
              "\n",
              "      <script>\n",
              "\n",
              "function displayQuickchartButton(domScope) {\n",
              "  let quickchartButtonEl =\n",
              "    domScope.querySelector('#df-8ba06909-d7ef-4fc3-b828-c8dfea9e676c button.colab-df-quickchart');\n",
              "  quickchartButtonEl.style.display =\n",
              "    google.colab.kernel.accessAllowed ? 'block' : 'none';\n",
              "}\n",
              "\n",
              "        displayQuickchartButton(document);\n",
              "      </script>\n",
              "      <style>\n",
              "    .colab-df-container {\n",
              "      display:flex;\n",
              "      flex-wrap:wrap;\n",
              "      gap: 12px;\n",
              "    }\n",
              "\n",
              "    .colab-df-convert {\n",
              "      background-color: #E8F0FE;\n",
              "      border: none;\n",
              "      border-radius: 50%;\n",
              "      cursor: pointer;\n",
              "      display: none;\n",
              "      fill: #1967D2;\n",
              "      height: 32px;\n",
              "      padding: 0 0 0 0;\n",
              "      width: 32px;\n",
              "    }\n",
              "\n",
              "    .colab-df-convert:hover {\n",
              "      background-color: #E2EBFA;\n",
              "      box-shadow: 0px 1px 2px rgba(60, 64, 67, 0.3), 0px 1px 3px 1px rgba(60, 64, 67, 0.15);\n",
              "      fill: #174EA6;\n",
              "    }\n",
              "\n",
              "    [theme=dark] .colab-df-convert {\n",
              "      background-color: #3B4455;\n",
              "      fill: #D2E3FC;\n",
              "    }\n",
              "\n",
              "    [theme=dark] .colab-df-convert:hover {\n",
              "      background-color: #434B5C;\n",
              "      box-shadow: 0px 1px 3px 1px rgba(0, 0, 0, 0.15);\n",
              "      filter: drop-shadow(0px 1px 2px rgba(0, 0, 0, 0.3));\n",
              "      fill: #FFFFFF;\n",
              "    }\n",
              "  </style>\n",
              "\n",
              "      <script>\n",
              "        const buttonEl =\n",
              "          document.querySelector('#df-1bdeefc3-48ee-46c2-ba0b-15d0bf0665d4 button.colab-df-convert');\n",
              "        buttonEl.style.display =\n",
              "          google.colab.kernel.accessAllowed ? 'block' : 'none';\n",
              "\n",
              "        async function convertToInteractive(key) {\n",
              "          const element = document.querySelector('#df-1bdeefc3-48ee-46c2-ba0b-15d0bf0665d4');\n",
              "          const dataTable =\n",
              "            await google.colab.kernel.invokeFunction('convertToInteractive',\n",
              "                                                     [key], {});\n",
              "          if (!dataTable) return;\n",
              "\n",
              "          const docLinkHtml = 'Like what you see? Visit the ' +\n",
              "            '<a target=\"_blank\" href=https://colab.research.google.com/notebooks/data_table.ipynb>data table notebook</a>'\n",
              "            + ' to learn more about interactive tables.';\n",
              "          element.innerHTML = '';\n",
              "          dataTable['output_type'] = 'display_data';\n",
              "          await google.colab.output.renderOutput(dataTable, element);\n",
              "          const docLink = document.createElement('div');\n",
              "          docLink.innerHTML = docLinkHtml;\n",
              "          element.appendChild(docLink);\n",
              "        }\n",
              "      </script>\n",
              "    </div>\n",
              "  </div>\n"
            ]
          },
          "metadata": {},
          "execution_count": 182
        }
      ]
    },
    {
      "cell_type": "code",
      "source": [
        "get_plot(comp_df_to_plot,title=title)"
      ],
      "metadata": {
        "colab": {
          "base_uri": "https://localhost:8080/",
          "height": 710
        },
        "id": "sXQd3tFA8zkV",
        "outputId": "9ef7c563-5a7a-4823-cc78-7889183dddbf"
      },
      "execution_count": 178,
      "outputs": [
        {
          "output_type": "display_data",
          "data": {
            "text/plain": [
              "<Figure size 2400x1200 with 1 Axes>"
            ],
            "image/png": "[encoded data removed]"
          },
          "metadata": {}
        }
      ]
    },
    {
      "cell_type": "code",
      "source": [
        "# get root mean sqaured error (RMSE)\n",
        "rmse = sqrt(mse(actuals, predictions))\n",
        "print('Predictions RMSE: %.3f' % rmse)"
      ],
      "metadata": {
        "colab": {
          "base_uri": "https://localhost:8080/"
        },
        "id": "UhweNVVA9GEt",
        "outputId": "11335ffb-83d7-4bd5-9990-cb31a06f712d"
      },
      "execution_count": 179,
      "outputs": [
        {
          "output_type": "stream",
          "name": "stdout",
          "text": [
            "Predictions RMSE: 102.511\n"
          ]
        }
      ]
    },
    {
      "cell_type": "code",
      "source": [
        "sheet_name = 'north'\n",
        "df = pd.read_excel(csv_path, sheet_name=sheet_name)\n",
        "df_input = df.set_index(date_index_column_name)[list_inputs]\n",
        "df_input"
      ],
      "metadata": {
        "colab": {
          "base_uri": "https://localhost:8080/",
          "height": 455
        },
        "id": "XuPEHyvo5y2y",
        "outputId": "e2d285f2-fa2d-4f22-cc45-7c3878a308d7"
      },
      "execution_count": 22,
      "outputs": [
        {
          "output_type": "execute_result",
          "data": {
            "text/plain": [
              "               pld  load_energy  max_demand     ena  hidro_gen  thermo_gen  \\\n",
              "ini_date                                                                     \n",
              "2001-06-30  684.00  2282.007202       2.619   2.223     2998.7         0.0   \n",
              "2001-07-07  684.00  2236.158333       2.514   2.007     2836.5         0.0   \n",
              "2001-07-14  684.00  2207.686310       2.487   1.866     2702.3         0.0   \n",
              "2001-07-21  684.00  2187.737500       2.463   1.732     2793.1         0.0   \n",
              "2001-07-28  684.00  2220.974405       2.898   1.629     2967.8         0.0   \n",
              "...            ...          ...         ...     ...        ...         ...   \n",
              "2023-03-25   69.04  6717.131149       7.493  32.588    15090.5       858.2   \n",
              "2023-04-01   69.04  6650.716036       7.597  30.199    16481.8      1263.1   \n",
              "2023-04-08   69.04  6745.309375       7.636  29.455    14728.3      1687.1   \n",
              "2023-04-15   69.04  6853.620048       7.764  27.937    13589.4      1737.6   \n",
              "2023-04-22   69.04  6890.044661       7.860  25.885    12390.6      1037.0   \n",
              "\n",
              "            stored_energy   exports  imports  \n",
              "ini_date                                      \n",
              "2001-06-30          9.992   717.000      0.0  \n",
              "2001-07-07          9.804   600.000      0.0  \n",
              "2001-07-14          9.627   495.000      0.0  \n",
              "2001-07-21          9.389   605.000      0.0  \n",
              "2001-07-28          9.087   747.000      0.0  \n",
              "...                   ...       ...      ...  \n",
              "2023-03-25         14.951  9271.000      0.0  \n",
              "2023-04-01         15.048    11.127      0.0  \n",
              "2023-04-08         15.006  9755.000      0.0  \n",
              "2023-04-15         15.026  8554.000      0.0  \n",
              "2023-04-22         14.966  6610.000      0.0  \n",
              "\n",
              "[1139 rows x 9 columns]"
            ],
            "text/html": [
              "\n",
              "\n",
              "  <div id=\"df-2d250a44-0a1b-4d6b-95b7-98f66d755b72\">\n",
              "    <div class=\"colab-df-container\">\n",
              "      <div>\n",
              "<style scoped>\n",
              "    .dataframe tbody tr th:only-of-type {\n",
              "        vertical-align: middle;\n",
              "    }\n",
              "\n",
              "    .dataframe tbody tr th {\n",
              "        vertical-align: top;\n",
              "    }\n",
              "\n",
              "    .dataframe thead th {\n",
              "        text-align: right;\n",
              "    }\n",
              "</style>\n",
              "<table border=\"1\" class=\"dataframe\">\n",
              "  <thead>\n",
              "    <tr style=\"text-align: right;\">\n",
              "      <th></th>\n",
              "      <th>pld</th>\n",
              "      <th>load_energy</th>\n",
              "      <th>max_demand</th>\n",
              "      <th>ena</th>\n",
              "      <th>hidro_gen</th>\n",
              "      <th>thermo_gen</th>\n",
              "      <th>stored_energy</th>\n",
              "      <th>exports</th>\n",
              "      <th>imports</th>\n",
              "    </tr>\n",
              "    <tr>\n",
              "      <th>ini_date</th>\n",
              "      <th></th>\n",
              "      <th></th>\n",
              "      <th></th>\n",
              "      <th></th>\n",
              "      <th></th>\n",
              "      <th></th>\n",
              "      <th></th>\n",
              "      <th></th>\n",
              "      <th></th>\n",
              "    </tr>\n",
              "  </thead>\n",
              "  <tbody>\n",
              "    <tr>\n",
              "      <th>2001-06-30</th>\n",
              "      <td>684.00</td>\n",
              "      <td>2282.007202</td>\n",
              "      <td>2.619</td>\n",
              "      <td>2.223</td>\n",
              "      <td>2998.7</td>\n",
              "      <td>0.0</td>\n",
              "      <td>9.992</td>\n",
              "      <td>717.000</td>\n",
              "      <td>0.0</td>\n",
              "    </tr>\n",
              "    <tr>\n",
              "      <th>2001-07-07</th>\n",
              "      <td>684.00</td>\n",
              "      <td>2236.158333</td>\n",
              "      <td>2.514</td>\n",
              "      <td>2.007</td>\n",
              "      <td>2836.5</td>\n",
              "      <td>0.0</td>\n",
              "      <td>9.804</td>\n",
              "      <td>600.000</td>\n",
              "      <td>0.0</td>\n",
              "    </tr>\n",
              "    <tr>\n",
              "      <th>2001-07-14</th>\n",
              "      <td>684.00</td>\n",
              "      <td>2207.686310</td>\n",
              "      <td>2.487</td>\n",
              "      <td>1.866</td>\n",
              "      <td>2702.3</td>\n",
              "      <td>0.0</td>\n",
              "      <td>9.627</td>\n",
              "      <td>495.000</td>\n",
              "      <td>0.0</td>\n",
              "    </tr>\n",
              "    <tr>\n",
              "      <th>2001-07-21</th>\n",
              "      <td>684.00</td>\n",
              "      <td>2187.737500</td>\n",
              "      <td>2.463</td>\n",
              "      <td>1.732</td>\n",
              "      <td>2793.1</td>\n",
              "      <td>0.0</td>\n",
              "      <td>9.389</td>\n",
              "      <td>605.000</td>\n",
              "      <td>0.0</td>\n",
              "    </tr>\n",
              "    <tr>\n",
              "      <th>2001-07-28</th>\n",
              "      <td>684.00</td>\n",
              "      <td>2220.974405</td>\n",
              "      <td>2.898</td>\n",
              "      <td>1.629</td>\n",
              "      <td>2967.8</td>\n",
              "      <td>0.0</td>\n",
              "      <td>9.087</td>\n",
              "      <td>747.000</td>\n",
              "      <td>0.0</td>\n",
              "    </tr>\n",
              "    <tr>\n",
              "      <th>...</th>\n",
              "      <td>...</td>\n",
              "      <td>...</td>\n",
              "      <td>...</td>\n",
              "      <td>...</td>\n",
              "      <td>...</td>\n",
              "      <td>...</td>\n",
              "      <td>...</td>\n",
              "      <td>...</td>\n",
              "      <td>...</td>\n",
              "    </tr>\n",
              "    <tr>\n",
              "      <th>2023-03-25</th>\n",
              "      <td>69.04</td>\n",
              "      <td>6717.131149</td>\n",
              "      <td>7.493</td>\n",
              "      <td>32.588</td>\n",
              "      <td>15090.5</td>\n",
              "      <td>858.2</td>\n",
              "      <td>14.951</td>\n",
              "      <td>9271.000</td>\n",
              "      <td>0.0</td>\n",
              "    </tr>\n",
              "    <tr>\n",
              "      <th>2023-04-01</th>\n",
              "      <td>69.04</td>\n",
              "      <td>6650.716036</td>\n",
              "      <td>7.597</td>\n",
              "      <td>30.199</td>\n",
              "      <td>16481.8</td>\n",
              "      <td>1263.1</td>\n",
              "      <td>15.048</td>\n",
              "      <td>11.127</td>\n",
              "      <td>0.0</td>\n",
              "    </tr>\n",
              "    <tr>\n",
              "      <th>2023-04-08</th>\n",
              "      <td>69.04</td>\n",
              "      <td>6745.309375</td>\n",
              "      <td>7.636</td>\n",
              "      <td>29.455</td>\n",
              "      <td>14728.3</td>\n",
              "      <td>1687.1</td>\n",
              "      <td>15.006</td>\n",
              "      <td>9755.000</td>\n",
              "      <td>0.0</td>\n",
              "    </tr>\n",
              "    <tr>\n",
              "      <th>2023-04-15</th>\n",
              "      <td>69.04</td>\n",
              "      <td>6853.620048</td>\n",
              "      <td>7.764</td>\n",
              "      <td>27.937</td>\n",
              "      <td>13589.4</td>\n",
              "      <td>1737.6</td>\n",
              "      <td>15.026</td>\n",
              "      <td>8554.000</td>\n",
              "      <td>0.0</td>\n",
              "    </tr>\n",
              "    <tr>\n",
              "      <th>2023-04-22</th>\n",
              "      <td>69.04</td>\n",
              "      <td>6890.044661</td>\n",
              "      <td>7.860</td>\n",
              "      <td>25.885</td>\n",
              "      <td>12390.6</td>\n",
              "      <td>1037.0</td>\n",
              "      <td>14.966</td>\n",
              "      <td>6610.000</td>\n",
              "      <td>0.0</td>\n",
              "    </tr>\n",
              "  </tbody>\n",
              "</table>\n",
              "<p>1139 rows × 9 columns</p>\n",
              "</div>\n",
              "      <button class=\"colab-df-convert\" onclick=\"convertToInteractive('df-2d250a44-0a1b-4d6b-95b7-98f66d755b72')\"\n",
              "              title=\"Convert this dataframe to an interactive table.\"\n",
              "              style=\"display:none;\">\n",
              "\n",
              "  <svg xmlns=\"http://www.w3.org/2000/svg\" height=\"24px\"viewBox=\"0 0 24 24\"\n",
              "       width=\"24px\">\n",
              "    <path d=\"M0 0h24v24H0V0z\" fill=\"none\"/>\n",
              "    <path d=\"M18.56 5.44l.94 2.06.94-2.06 2.06-.94-2.06-.94-.94-2.06-.94 2.06-2.06.94zm-11 1L8.5 8.5l.94-2.06 2.06-.94-2.06-.94L8.5 2.5l-.94 2.06-2.06.94zm10 10l.94 2.06.94-2.06 2.06-.94-2.06-.94-.94-2.06-.94 2.06-2.06.94z\"/><path d=\"M17.41 7.96l-1.37-1.37c-.4-.4-.92-.59-1.43-.59-.52 0-1.04.2-1.43.59L10.3 9.45l-7.72 7.72c-.78.78-.78 2.05 0 2.83L4 21.41c.39.39.9.59 1.41.59.51 0 1.02-.2 1.41-.59l7.78-7.78 2.81-2.81c.8-.78.8-2.07 0-2.86zM5.41 20L4 18.59l7.72-7.72 1.47 1.35L5.41 20z\"/>\n",
              "  </svg>\n",
              "      </button>\n",
              "\n",
              "\n",
              "\n",
              "    <div id=\"df-3b3b41e8-bcd3-413b-96be-5a82534b5e90\">\n",
              "      <button class=\"colab-df-quickchart\" onclick=\"quickchart('df-3b3b41e8-bcd3-413b-96be-5a82534b5e90')\"\n",
              "              title=\"Suggest charts.\"\n",
              "              style=\"display:none;\">\n",
              "\n",
              "<svg xmlns=\"http://www.w3.org/2000/svg\" height=\"24px\"viewBox=\"0 0 24 24\"\n",
              "     width=\"24px\">\n",
              "    <g>\n",
              "        <path d=\"M19 3H5c-1.1 0-2 .9-2 2v14c0 1.1.9 2 2 2h14c1.1 0 2-.9 2-2V5c0-1.1-.9-2-2-2zM9 17H7v-7h2v7zm4 0h-2V7h2v10zm4 0h-2v-4h2v4z\"/>\n",
              "    </g>\n",
              "</svg>\n",
              "      </button>\n",
              "    </div>\n",
              "\n",
              "<style>\n",
              "  .colab-df-quickchart {\n",
              "    background-color: #E8F0FE;\n",
              "    border: none;\n",
              "    border-radius: 50%;\n",
              "    cursor: pointer;\n",
              "    display: none;\n",
              "    fill: #1967D2;\n",
              "    height: 32px;\n",
              "    padding: 0 0 0 0;\n",
              "    width: 32px;\n",
              "  }\n",
              "\n",
              "  .colab-df-quickchart:hover {\n",
              "    background-color: #E2EBFA;\n",
              "    box-shadow: 0px 1px 2px rgba(60, 64, 67, 0.3), 0px 1px 3px 1px rgba(60, 64, 67, 0.15);\n",
              "    fill: #174EA6;\n",
              "  }\n",
              "\n",
              "  [theme=dark] .colab-df-quickchart {\n",
              "    background-color: #3B4455;\n",
              "    fill: #D2E3FC;\n",
              "  }\n",
              "\n",
              "  [theme=dark] .colab-df-quickchart:hover {\n",
              "    background-color: #434B5C;\n",
              "    box-shadow: 0px 1px 3px 1px rgba(0, 0, 0, 0.15);\n",
              "    filter: drop-shadow(0px 1px 2px rgba(0, 0, 0, 0.3));\n",
              "    fill: #FFFFFF;\n",
              "  }\n",
              "</style>\n",
              "\n",
              "    <script>\n",
              "      async function quickchart(key) {\n",
              "        const containerElement = document.querySelector('#' + key);\n",
              "        const charts = await google.colab.kernel.invokeFunction(\n",
              "            'suggestCharts', [key], {});\n",
              "      }\n",
              "    </script>\n",
              "\n",
              "      <script>\n",
              "\n",
              "function displayQuickchartButton(domScope) {\n",
              "  let quickchartButtonEl =\n",
              "    domScope.querySelector('#df-3b3b41e8-bcd3-413b-96be-5a82534b5e90 button.colab-df-quickchart');\n",
              "  quickchartButtonEl.style.display =\n",
              "    google.colab.kernel.accessAllowed ? 'block' : 'none';\n",
              "}\n",
              "\n",
              "        displayQuickchartButton(document);\n",
              "      </script>\n",
              "      <style>\n",
              "    .colab-df-container {\n",
              "      display:flex;\n",
              "      flex-wrap:wrap;\n",
              "      gap: 12px;\n",
              "    }\n",
              "\n",
              "    .colab-df-convert {\n",
              "      background-color: #E8F0FE;\n",
              "      border: none;\n",
              "      border-radius: 50%;\n",
              "      cursor: pointer;\n",
              "      display: none;\n",
              "      fill: #1967D2;\n",
              "      height: 32px;\n",
              "      padding: 0 0 0 0;\n",
              "      width: 32px;\n",
              "    }\n",
              "\n",
              "    .colab-df-convert:hover {\n",
              "      background-color: #E2EBFA;\n",
              "      box-shadow: 0px 1px 2px rgba(60, 64, 67, 0.3), 0px 1px 3px 1px rgba(60, 64, 67, 0.15);\n",
              "      fill: #174EA6;\n",
              "    }\n",
              "\n",
              "    [theme=dark] .colab-df-convert {\n",
              "      background-color: #3B4455;\n",
              "      fill: #D2E3FC;\n",
              "    }\n",
              "\n",
              "    [theme=dark] .colab-df-convert:hover {\n",
              "      background-color: #434B5C;\n",
              "      box-shadow: 0px 1px 3px 1px rgba(0, 0, 0, 0.15);\n",
              "      filter: drop-shadow(0px 1px 2px rgba(0, 0, 0, 0.3));\n",
              "      fill: #FFFFFF;\n",
              "    }\n",
              "  </style>\n",
              "\n",
              "      <script>\n",
              "        const buttonEl =\n",
              "          document.querySelector('#df-2d250a44-0a1b-4d6b-95b7-98f66d755b72 button.colab-df-convert');\n",
              "        buttonEl.style.display =\n",
              "          google.colab.kernel.accessAllowed ? 'block' : 'none';\n",
              "\n",
              "        async function convertToInteractive(key) {\n",
              "          const element = document.querySelector('#df-2d250a44-0a1b-4d6b-95b7-98f66d755b72');\n",
              "          const dataTable =\n",
              "            await google.colab.kernel.invokeFunction('convertToInteractive',\n",
              "                                                     [key], {});\n",
              "          if (!dataTable) return;\n",
              "\n",
              "          const docLinkHtml = 'Like what you see? Visit the ' +\n",
              "            '<a target=\"_blank\" href=https://colab.research.google.com/notebooks/data_table.ipynb>data table notebook</a>'\n",
              "            + ' to learn more about interactive tables.';\n",
              "          element.innerHTML = '';\n",
              "          dataTable['output_type'] = 'display_data';\n",
              "          await google.colab.output.renderOutput(dataTable, element);\n",
              "          const docLink = document.createElement('div');\n",
              "          docLink.innerHTML = docLinkHtml;\n",
              "          element.appendChild(docLink);\n",
              "        }\n",
              "      </script>\n",
              "    </div>\n",
              "  </div>\n"
            ]
          },
          "metadata": {},
          "execution_count": 22
        }
      ]
    },
    {
      "cell_type": "code",
      "source": [
        "df_input[df_input.columns[0:]].corr()['pld'][:]"
      ],
      "metadata": {
        "colab": {
          "base_uri": "https://localhost:8080/"
        },
        "id": "CPCnSc2s97td",
        "outputId": "2ab2c8ef-d181-45cc-e757-a40a1aa28912"
      },
      "execution_count": 23,
      "outputs": [
        {
          "output_type": "execute_result",
          "data": {
            "text/plain": [
              "pld              1.000000\n",
              "load_energy      0.302692\n",
              "max_demand       0.296453\n",
              "ena             -0.240569\n",
              "hidro_gen       -0.124943\n",
              "thermo_gen       0.573505\n",
              "stored_energy   -0.113380\n",
              "exports         -0.026585\n",
              "imports         -0.040926\n",
              "Name: pld, dtype: float64"
            ]
          },
          "metadata": {},
          "execution_count": 23
        }
      ]
    },
    {
      "cell_type": "code",
      "source": [],
      "metadata": {
        "id": "0CrH5GwF-CLs"
      },
      "execution_count": null,
      "outputs": []
    }
  ]
}